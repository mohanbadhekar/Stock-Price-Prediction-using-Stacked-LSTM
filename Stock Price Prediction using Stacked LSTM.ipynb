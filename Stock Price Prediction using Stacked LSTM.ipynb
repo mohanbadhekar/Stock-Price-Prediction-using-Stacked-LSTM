{
 "cells": [
  {
   "cell_type": "code",
   "execution_count": 1,
   "id": "8ef989e6",
   "metadata": {},
   "outputs": [],
   "source": [
    "### Keras and Tensorflow >2.0"
   ]
  },
  {
   "cell_type": "code",
   "execution_count": 2,
   "id": "481b2349",
   "metadata": {},
   "outputs": [],
   "source": [
    "### Data Collection\n",
    "import pandas_datareader as pdr\n",
    "key=\"debee8d1a1092fd0ca4570863e6c2100eaa113bc\""
   ]
  },
  {
   "cell_type": "code",
   "execution_count": 3,
   "id": "2b458b17",
   "metadata": {},
   "outputs": [
    {
     "name": "stderr",
     "output_type": "stream",
     "text": [
      "C:\\Users\\mohan\\AppData\\Roaming\\Python\\Python310\\site-packages\\pandas_datareader\\tiingo.py:234: FutureWarning: In a future version of pandas all arguments of concat except for the argument 'objs' will be keyword-only.\n",
      "  return pd.concat(dfs, self._concat_axis)\n"
     ]
    }
   ],
   "source": [
    "df = pdr.get_data_tiingo('AAPL', api_key=key)"
   ]
  },
  {
   "cell_type": "code",
   "execution_count": 4,
   "id": "50967c92",
   "metadata": {},
   "outputs": [],
   "source": [
    "df.to_csv('AAPL.csv')"
   ]
  },
  {
   "cell_type": "code",
   "execution_count": 5,
   "id": "8604d5e2",
   "metadata": {},
   "outputs": [],
   "source": [
    "import pandas as pd"
   ]
  },
  {
   "cell_type": "code",
   "execution_count": 6,
   "id": "b9645767",
   "metadata": {},
   "outputs": [],
   "source": [
    "df=pd.read_csv('AAPL.csv')"
   ]
  },
  {
   "cell_type": "code",
   "execution_count": 7,
   "id": "37398180",
   "metadata": {},
   "outputs": [
    {
     "data": {
      "text/html": [
       "<div>\n",
       "<style scoped>\n",
       "    .dataframe tbody tr th:only-of-type {\n",
       "        vertical-align: middle;\n",
       "    }\n",
       "\n",
       "    .dataframe tbody tr th {\n",
       "        vertical-align: top;\n",
       "    }\n",
       "\n",
       "    .dataframe thead th {\n",
       "        text-align: right;\n",
       "    }\n",
       "</style>\n",
       "<table border=\"1\" class=\"dataframe\">\n",
       "  <thead>\n",
       "    <tr style=\"text-align: right;\">\n",
       "      <th></th>\n",
       "      <th>symbol</th>\n",
       "      <th>date</th>\n",
       "      <th>close</th>\n",
       "      <th>high</th>\n",
       "      <th>low</th>\n",
       "      <th>open</th>\n",
       "      <th>volume</th>\n",
       "      <th>adjClose</th>\n",
       "      <th>adjHigh</th>\n",
       "      <th>adjLow</th>\n",
       "      <th>adjOpen</th>\n",
       "      <th>adjVolume</th>\n",
       "      <th>divCash</th>\n",
       "      <th>splitFactor</th>\n",
       "    </tr>\n",
       "  </thead>\n",
       "  <tbody>\n",
       "    <tr>\n",
       "      <th>0</th>\n",
       "      <td>AAPL</td>\n",
       "      <td>2018-06-04 00:00:00+00:00</td>\n",
       "      <td>191.83</td>\n",
       "      <td>193.42</td>\n",
       "      <td>191.35</td>\n",
       "      <td>191.64</td>\n",
       "      <td>26266174</td>\n",
       "      <td>45.827936</td>\n",
       "      <td>46.207785</td>\n",
       "      <td>45.713265</td>\n",
       "      <td>45.782545</td>\n",
       "      <td>105064696</td>\n",
       "      <td>0.0</td>\n",
       "      <td>1.0</td>\n",
       "    </tr>\n",
       "    <tr>\n",
       "      <th>1</th>\n",
       "      <td>AAPL</td>\n",
       "      <td>2018-06-05 00:00:00+00:00</td>\n",
       "      <td>193.31</td>\n",
       "      <td>193.94</td>\n",
       "      <td>192.36</td>\n",
       "      <td>193.07</td>\n",
       "      <td>21565963</td>\n",
       "      <td>46.181506</td>\n",
       "      <td>46.332012</td>\n",
       "      <td>45.954552</td>\n",
       "      <td>46.124171</td>\n",
       "      <td>86263852</td>\n",
       "      <td>0.0</td>\n",
       "      <td>1.0</td>\n",
       "    </tr>\n",
       "    <tr>\n",
       "      <th>2</th>\n",
       "      <td>AAPL</td>\n",
       "      <td>2018-06-06 00:00:00+00:00</td>\n",
       "      <td>193.98</td>\n",
       "      <td>194.08</td>\n",
       "      <td>191.92</td>\n",
       "      <td>193.63</td>\n",
       "      <td>20933619</td>\n",
       "      <td>46.341568</td>\n",
       "      <td>46.365458</td>\n",
       "      <td>45.849437</td>\n",
       "      <td>46.257954</td>\n",
       "      <td>83734476</td>\n",
       "      <td>0.0</td>\n",
       "      <td>1.0</td>\n",
       "    </tr>\n",
       "    <tr>\n",
       "      <th>3</th>\n",
       "      <td>AAPL</td>\n",
       "      <td>2018-06-07 00:00:00+00:00</td>\n",
       "      <td>193.46</td>\n",
       "      <td>194.20</td>\n",
       "      <td>192.34</td>\n",
       "      <td>194.14</td>\n",
       "      <td>21347180</td>\n",
       "      <td>46.217341</td>\n",
       "      <td>46.394126</td>\n",
       "      <td>45.949775</td>\n",
       "      <td>46.379792</td>\n",
       "      <td>85388720</td>\n",
       "      <td>0.0</td>\n",
       "      <td>1.0</td>\n",
       "    </tr>\n",
       "    <tr>\n",
       "      <th>4</th>\n",
       "      <td>AAPL</td>\n",
       "      <td>2018-06-08 00:00:00+00:00</td>\n",
       "      <td>191.70</td>\n",
       "      <td>192.00</td>\n",
       "      <td>189.77</td>\n",
       "      <td>191.17</td>\n",
       "      <td>26656799</td>\n",
       "      <td>45.796879</td>\n",
       "      <td>45.868549</td>\n",
       "      <td>45.335805</td>\n",
       "      <td>45.670263</td>\n",
       "      <td>106627196</td>\n",
       "      <td>0.0</td>\n",
       "      <td>1.0</td>\n",
       "    </tr>\n",
       "  </tbody>\n",
       "</table>\n",
       "</div>"
      ],
      "text/plain": [
       "  symbol                       date   close    high     low    open    volume  \\\n",
       "0   AAPL  2018-06-04 00:00:00+00:00  191.83  193.42  191.35  191.64  26266174   \n",
       "1   AAPL  2018-06-05 00:00:00+00:00  193.31  193.94  192.36  193.07  21565963   \n",
       "2   AAPL  2018-06-06 00:00:00+00:00  193.98  194.08  191.92  193.63  20933619   \n",
       "3   AAPL  2018-06-07 00:00:00+00:00  193.46  194.20  192.34  194.14  21347180   \n",
       "4   AAPL  2018-06-08 00:00:00+00:00  191.70  192.00  189.77  191.17  26656799   \n",
       "\n",
       "    adjClose    adjHigh     adjLow    adjOpen  adjVolume  divCash  splitFactor  \n",
       "0  45.827936  46.207785  45.713265  45.782545  105064696      0.0          1.0  \n",
       "1  46.181506  46.332012  45.954552  46.124171   86263852      0.0          1.0  \n",
       "2  46.341568  46.365458  45.849437  46.257954   83734476      0.0          1.0  \n",
       "3  46.217341  46.394126  45.949775  46.379792   85388720      0.0          1.0  \n",
       "4  45.796879  45.868549  45.335805  45.670263  106627196      0.0          1.0  "
      ]
     },
     "execution_count": 7,
     "metadata": {},
     "output_type": "execute_result"
    }
   ],
   "source": [
    "df.head()"
   ]
  },
  {
   "cell_type": "code",
   "execution_count": 8,
   "id": "7953f3cf",
   "metadata": {},
   "outputs": [
    {
     "data": {
      "text/html": [
       "<div>\n",
       "<style scoped>\n",
       "    .dataframe tbody tr th:only-of-type {\n",
       "        vertical-align: middle;\n",
       "    }\n",
       "\n",
       "    .dataframe tbody tr th {\n",
       "        vertical-align: top;\n",
       "    }\n",
       "\n",
       "    .dataframe thead th {\n",
       "        text-align: right;\n",
       "    }\n",
       "</style>\n",
       "<table border=\"1\" class=\"dataframe\">\n",
       "  <thead>\n",
       "    <tr style=\"text-align: right;\">\n",
       "      <th></th>\n",
       "      <th>symbol</th>\n",
       "      <th>date</th>\n",
       "      <th>close</th>\n",
       "      <th>high</th>\n",
       "      <th>low</th>\n",
       "      <th>open</th>\n",
       "      <th>volume</th>\n",
       "      <th>adjClose</th>\n",
       "      <th>adjHigh</th>\n",
       "      <th>adjLow</th>\n",
       "      <th>adjOpen</th>\n",
       "      <th>adjVolume</th>\n",
       "      <th>divCash</th>\n",
       "      <th>splitFactor</th>\n",
       "    </tr>\n",
       "  </thead>\n",
       "  <tbody>\n",
       "    <tr>\n",
       "      <th>1253</th>\n",
       "      <td>AAPL</td>\n",
       "      <td>2023-05-25 00:00:00+00:00</td>\n",
       "      <td>172.99</td>\n",
       "      <td>173.895</td>\n",
       "      <td>171.6900</td>\n",
       "      <td>172.410</td>\n",
       "      <td>56058258</td>\n",
       "      <td>172.99</td>\n",
       "      <td>173.895</td>\n",
       "      <td>171.6900</td>\n",
       "      <td>172.410</td>\n",
       "      <td>56058258</td>\n",
       "      <td>0.0</td>\n",
       "      <td>1.0</td>\n",
       "    </tr>\n",
       "    <tr>\n",
       "      <th>1254</th>\n",
       "      <td>AAPL</td>\n",
       "      <td>2023-05-26 00:00:00+00:00</td>\n",
       "      <td>175.43</td>\n",
       "      <td>175.770</td>\n",
       "      <td>173.1100</td>\n",
       "      <td>173.320</td>\n",
       "      <td>54834975</td>\n",
       "      <td>175.43</td>\n",
       "      <td>175.770</td>\n",
       "      <td>173.1100</td>\n",
       "      <td>173.320</td>\n",
       "      <td>54834975</td>\n",
       "      <td>0.0</td>\n",
       "      <td>1.0</td>\n",
       "    </tr>\n",
       "    <tr>\n",
       "      <th>1255</th>\n",
       "      <td>AAPL</td>\n",
       "      <td>2023-05-30 00:00:00+00:00</td>\n",
       "      <td>177.30</td>\n",
       "      <td>178.990</td>\n",
       "      <td>176.5700</td>\n",
       "      <td>176.960</td>\n",
       "      <td>55964401</td>\n",
       "      <td>177.30</td>\n",
       "      <td>178.990</td>\n",
       "      <td>176.5700</td>\n",
       "      <td>176.960</td>\n",
       "      <td>55964401</td>\n",
       "      <td>0.0</td>\n",
       "      <td>1.0</td>\n",
       "    </tr>\n",
       "    <tr>\n",
       "      <th>1256</th>\n",
       "      <td>AAPL</td>\n",
       "      <td>2023-05-31 00:00:00+00:00</td>\n",
       "      <td>177.25</td>\n",
       "      <td>179.350</td>\n",
       "      <td>176.7600</td>\n",
       "      <td>177.325</td>\n",
       "      <td>99313268</td>\n",
       "      <td>177.25</td>\n",
       "      <td>179.350</td>\n",
       "      <td>176.7600</td>\n",
       "      <td>177.325</td>\n",
       "      <td>99313268</td>\n",
       "      <td>0.0</td>\n",
       "      <td>1.0</td>\n",
       "    </tr>\n",
       "    <tr>\n",
       "      <th>1257</th>\n",
       "      <td>AAPL</td>\n",
       "      <td>2023-06-01 00:00:00+00:00</td>\n",
       "      <td>180.09</td>\n",
       "      <td>180.120</td>\n",
       "      <td>176.9306</td>\n",
       "      <td>177.700</td>\n",
       "      <td>68901809</td>\n",
       "      <td>180.09</td>\n",
       "      <td>180.120</td>\n",
       "      <td>176.9306</td>\n",
       "      <td>177.700</td>\n",
       "      <td>68901809</td>\n",
       "      <td>0.0</td>\n",
       "      <td>1.0</td>\n",
       "    </tr>\n",
       "  </tbody>\n",
       "</table>\n",
       "</div>"
      ],
      "text/plain": [
       "     symbol                       date   close     high       low     open  \\\n",
       "1253   AAPL  2023-05-25 00:00:00+00:00  172.99  173.895  171.6900  172.410   \n",
       "1254   AAPL  2023-05-26 00:00:00+00:00  175.43  175.770  173.1100  173.320   \n",
       "1255   AAPL  2023-05-30 00:00:00+00:00  177.30  178.990  176.5700  176.960   \n",
       "1256   AAPL  2023-05-31 00:00:00+00:00  177.25  179.350  176.7600  177.325   \n",
       "1257   AAPL  2023-06-01 00:00:00+00:00  180.09  180.120  176.9306  177.700   \n",
       "\n",
       "        volume  adjClose  adjHigh    adjLow  adjOpen  adjVolume  divCash  \\\n",
       "1253  56058258    172.99  173.895  171.6900  172.410   56058258      0.0   \n",
       "1254  54834975    175.43  175.770  173.1100  173.320   54834975      0.0   \n",
       "1255  55964401    177.30  178.990  176.5700  176.960   55964401      0.0   \n",
       "1256  99313268    177.25  179.350  176.7600  177.325   99313268      0.0   \n",
       "1257  68901809    180.09  180.120  176.9306  177.700   68901809      0.0   \n",
       "\n",
       "      splitFactor  \n",
       "1253          1.0  \n",
       "1254          1.0  \n",
       "1255          1.0  \n",
       "1256          1.0  \n",
       "1257          1.0  "
      ]
     },
     "execution_count": 8,
     "metadata": {},
     "output_type": "execute_result"
    }
   ],
   "source": [
    "df.tail()"
   ]
  },
  {
   "cell_type": "code",
   "execution_count": 9,
   "id": "9a61f76d",
   "metadata": {},
   "outputs": [],
   "source": [
    "df1=df.reset_index()['close']"
   ]
  },
  {
   "cell_type": "code",
   "execution_count": 10,
   "id": "534b8eb5",
   "metadata": {},
   "outputs": [
    {
     "data": {
      "text/plain": [
       "0       191.83\n",
       "1       193.31\n",
       "2       193.98\n",
       "3       193.46\n",
       "4       191.70\n",
       "         ...  \n",
       "1253    172.99\n",
       "1254    175.43\n",
       "1255    177.30\n",
       "1256    177.25\n",
       "1257    180.09\n",
       "Name: close, Length: 1258, dtype: float64"
      ]
     },
     "execution_count": 10,
     "metadata": {},
     "output_type": "execute_result"
    }
   ],
   "source": [
    "df1"
   ]
  },
  {
   "cell_type": "code",
   "execution_count": 11,
   "id": "6a082355",
   "metadata": {},
   "outputs": [
    {
     "data": {
      "text/plain": [
       "[<matplotlib.lines.Line2D at 0x2b7ae908190>]"
      ]
     },
     "execution_count": 11,
     "metadata": {},
     "output_type": "execute_result"
    },
    {
     "data": {
      "image/png": "[encoded data removed]",
      "text/plain": [
       "<Figure size 640x480 with 1 Axes>"
      ]
     },
     "metadata": {},
     "output_type": "display_data"
    }
   ],
   "source": [
    "import matplotlib.pyplot as plt\n",
    "plt.plot(df1)"
   ]
  },
  {
   "cell_type": "code",
   "execution_count": 12,
   "id": "107f8ccd",
   "metadata": {},
   "outputs": [],
   "source": [
    "\n",
    "### LSTM are sensitive to the scale of the data. so we apply MinMax scaler"
   ]
  },
  {
   "cell_type": "code",
   "execution_count": 13,
   "id": "32ea90bb",
   "metadata": {},
   "outputs": [],
   "source": [
    "import numpy as np"
   ]
  },
  {
   "cell_type": "code",
   "execution_count": 14,
   "id": "8f254b6f",
   "metadata": {},
   "outputs": [],
   "source": [
    "from sklearn.preprocessing import MinMaxScaler\n",
    "scaler=MinMaxScaler(feature_range=(0,1))\n",
    "df1=scaler.fit_transform(np.array(df1).reshape(-1,1))"
   ]
  },
  {
   "cell_type": "code",
   "execution_count": 15,
   "id": "ce571fda",
   "metadata": {
    "scrolled": true
   },
   "outputs": [
    {
     "name": "stdout",
     "output_type": "stream",
     "text": [
      "[[0.21287414]\n",
      " [0.21658109]\n",
      " [0.21825924]\n",
      " ...\n",
      " [0.1764809 ]\n",
      " [0.17635567]\n",
      " [0.183469  ]]\n"
     ]
    }
   ],
   "source": [
    "print(df1)"
   ]
  },
  {
   "cell_type": "code",
   "execution_count": 16,
   "id": "c3444c73",
   "metadata": {},
   "outputs": [],
   "source": [
    "##splitting dataset into train and test split\n",
    "training_size=int(len(df1)*0.80)\n",
    "test_size=len(df1)-training_size\n",
    "train_data,test_data=df1[0:training_size,:],df1[training_size:len(df1),:1]"
   ]
  },
  {
   "cell_type": "code",
   "execution_count": 17,
   "id": "28f08795",
   "metadata": {},
   "outputs": [
    {
     "data": {
      "text/plain": [
       "(1006, 252)"
      ]
     },
     "execution_count": 17,
     "metadata": {},
     "output_type": "execute_result"
    }
   ],
   "source": [
    "\n",
    "training_size,test_size"
   ]
  },
  {
   "cell_type": "code",
   "execution_count": 18,
   "id": "8f41fa8f",
   "metadata": {},
   "outputs": [
    {
     "data": {
      "text/plain": [
       "array([[0.21287414],\n",
       "       [0.21658109],\n",
       "       [0.21825924],\n",
       "       ...,\n",
       "       [0.09252348],\n",
       "       [0.107201  ],\n",
       "       [0.10519724]])"
      ]
     },
     "execution_count": 18,
     "metadata": {},
     "output_type": "execute_result"
    }
   ],
   "source": [
    "train_data"
   ]
  },
  {
   "cell_type": "code",
   "execution_count": 19,
   "id": "ac17947d",
   "metadata": {},
   "outputs": [],
   "source": [
    "import numpy\n",
    "# convert an array of values into a dataset matrix\n",
    "def create_dataset(dataset, time_step=1):\n",
    "\tdataX, dataY = [], []\n",
    "\tfor i in range(len(dataset)-time_step-1):\n",
    "\t\ta = dataset[i:(i+time_step), 0]   ###i=0, 0,1,2,3-----99   100 \n",
    "\t\tdataX.append(a)\n",
    "\t\tdataY.append(dataset[i + time_step, 0])\n",
    "\treturn numpy.array(dataX), numpy.array(dataY)"
   ]
  },
  {
   "cell_type": "code",
   "execution_count": 20,
   "id": "f475b72f",
   "metadata": {},
   "outputs": [],
   "source": [
    "# reshape into X=t,t+1,t+2,t+3 and Y=t+4\n",
    "time_step = 100\n",
    "X_train, y_train = create_dataset(train_data, time_step)\n",
    "X_test, ytest = create_dataset(test_data, time_step)"
   ]
  },
  {
   "cell_type": "code",
   "execution_count": 21,
   "id": "5bff1519",
   "metadata": {},
   "outputs": [
    {
     "name": "stdout",
     "output_type": "stream",
     "text": [
      "(905, 100)\n",
      "(905,)\n"
     ]
    },
    {
     "data": {
      "text/plain": [
       "(None, None)"
      ]
     },
     "execution_count": 21,
     "metadata": {},
     "output_type": "execute_result"
    }
   ],
   "source": [
    "print(X_train.shape), print(y_train.shape)"
   ]
  },
  {
   "cell_type": "code",
   "execution_count": 22,
   "id": "af49c4c5",
   "metadata": {},
   "outputs": [
    {
     "name": "stdout",
     "output_type": "stream",
     "text": [
      "(151, 100)\n",
      "(151,)\n"
     ]
    },
    {
     "data": {
      "text/plain": [
       "(None, None)"
      ]
     },
     "execution_count": 22,
     "metadata": {},
     "output_type": "execute_result"
    }
   ],
   "source": [
    "print(X_test.shape), print(ytest.shape)"
   ]
  },
  {
   "cell_type": "code",
   "execution_count": 23,
   "id": "483aacc1",
   "metadata": {},
   "outputs": [],
   "source": [
    "# reshape input to be [samples, time steps, features] which is required for LSTM\n",
    "X_train =X_train.reshape(X_train.shape[0],X_train.shape[1] , 1)\n",
    "X_test = X_test.reshape(X_test.shape[0],X_test.shape[1] , 1)"
   ]
  },
  {
   "cell_type": "code",
   "execution_count": 24,
   "id": "12427586",
   "metadata": {},
   "outputs": [],
   "source": [
    "### Create the Stacked LSTM model\n",
    "from tensorflow.keras.models import Sequential\n",
    "from tensorflow.keras.layers import Dense\n",
    "from tensorflow.keras.layers import LSTM"
   ]
  },
  {
   "cell_type": "code",
   "execution_count": 25,
   "id": "b99b8599",
   "metadata": {},
   "outputs": [],
   "source": [
    "model=Sequential()\n",
    "model.add(LSTM(50,return_sequences=True,input_shape=(100,1)))\n",
    "model.add(LSTM(50,return_sequences=True))\n",
    "model.add(LSTM(50))\n",
    "model.add(Dense(1))\n",
    "model.compile(loss='mean_squared_error',optimizer='adam')\n"
   ]
  },
  {
   "cell_type": "code",
   "execution_count": 26,
   "id": "83101fae",
   "metadata": {},
   "outputs": [
    {
     "name": "stdout",
     "output_type": "stream",
     "text": [
      "Model: \"sequential\"\n",
      "_________________________________________________________________\n",
      " Layer (type)                Output Shape              Param #   \n",
      "=================================================================\n",
      " lstm (LSTM)                 (None, 100, 50)           10400     \n",
      "                                                                 \n",
      " lstm_1 (LSTM)               (None, 100, 50)           20200     \n",
      "                                                                 \n",
      " lstm_2 (LSTM)               (None, 50)                20200     \n",
      "                                                                 \n",
      " dense (Dense)               (None, 1)                 51        \n",
      "                                                                 \n",
      "=================================================================\n",
      "Total params: 50,851\n",
      "Trainable params: 50,851\n",
      "Non-trainable params: 0\n",
      "_________________________________________________________________\n"
     ]
    }
   ],
   "source": [
    "model.summary()"
   ]
  },
  {
   "cell_type": "code",
   "execution_count": null,
   "id": "f71f6384",
   "metadata": {},
   "outputs": [
    {
     "name": "stdout",
     "output_type": "stream",
     "text": [
      "Epoch 1/100\n",
      "15/15 [==============================] - 20s 561ms/step - loss: 0.0288 - val_loss: 5.2533e-04\n",
      "Epoch 2/100\n",
      "15/15 [==============================] - 6s 380ms/step - loss: 0.0096 - val_loss: 7.4617e-04\n",
      "Epoch 3/100\n",
      "15/15 [==============================] - 6s 404ms/step - loss: 0.0073 - val_loss: 2.9314e-04\n",
      "Epoch 4/100\n",
      "15/15 [==============================] - 6s 374ms/step - loss: 0.0068 - val_loss: 9.6036e-04\n",
      "Epoch 5/100\n",
      "15/15 [==============================] - 5s 301ms/step - loss: 0.0060 - val_loss: 3.5100e-04\n",
      "Epoch 6/100\n",
      "15/15 [==============================] - 5s 309ms/step - loss: 0.0044 - val_loss: 2.0903e-04\n",
      "Epoch 7/100\n",
      "15/15 [==============================] - 5s 336ms/step - loss: 0.0042 - val_loss: 7.7385e-04\n",
      "Epoch 8/100\n",
      "15/15 [==============================] - 5s 328ms/step - loss: 0.0037 - val_loss: 2.1655e-04\n",
      "Epoch 9/100\n",
      "15/15 [==============================] - 6s 412ms/step - loss: 0.0031 - val_loss: 4.0789e-04\n",
      "Epoch 10/100\n",
      "15/15 [==============================] - 5s 332ms/step - loss: 0.0029 - val_loss: 1.8542e-04\n",
      "Epoch 11/100\n",
      "15/15 [==============================] - 5s 349ms/step - loss: 0.0031 - val_loss: 2.6817e-04\n",
      "Epoch 12/100\n",
      "15/15 [==============================] - 5s 331ms/step - loss: 0.0028 - val_loss: 1.8654e-04\n",
      "Epoch 13/100\n",
      "15/15 [==============================] - 5s 320ms/step - loss: 0.0025 - val_loss: 2.3633e-04\n",
      "Epoch 14/100\n",
      "15/15 [==============================] - 5s 310ms/step - loss: 0.0023 - val_loss: 3.5879e-04\n",
      "Epoch 15/100\n",
      "15/15 [==============================] - 5s 325ms/step - loss: 0.0019 - val_loss: 1.7278e-04\n",
      "Epoch 16/100\n",
      "15/15 [==============================] - 5s 363ms/step - loss: 0.0020 - val_loss: 3.1221e-04\n",
      "Epoch 17/100\n",
      "15/15 [==============================] - 5s 367ms/step - loss: 0.0046 - val_loss: 0.0017\n",
      "Epoch 18/100\n",
      "15/15 [==============================] - 6s 369ms/step - loss: 0.0036 - val_loss: 1.9687e-04\n",
      "Epoch 19/100\n",
      "15/15 [==============================] - 5s 359ms/step - loss: 0.0029 - val_loss: 4.5221e-04\n",
      "Epoch 20/100\n",
      "15/15 [==============================] - 5s 365ms/step - loss: 0.0021 - val_loss: 1.9498e-04\n",
      "Epoch 21/100\n",
      "15/15 [==============================] - 5s 360ms/step - loss: 0.0018 - val_loss: 1.9267e-04\n",
      "Epoch 22/100\n",
      "15/15 [==============================] - 5s 333ms/step - loss: 0.0024 - val_loss: 2.6165e-04\n",
      "Epoch 23/100\n",
      "15/15 [==============================] - 5s 357ms/step - loss: 0.0020 - val_loss: 1.7967e-04\n",
      "Epoch 24/100\n",
      "15/15 [==============================] - 5s 342ms/step - loss: 0.0018 - val_loss: 1.7037e-04\n",
      "Epoch 25/100\n",
      "15/15 [==============================] - 5s 307ms/step - loss: 0.0018 - val_loss: 4.8311e-04\n",
      "Epoch 26/100\n",
      "15/15 [==============================] - 5s 352ms/step - loss: 0.0020 - val_loss: 2.2977e-04\n",
      "Epoch 27/100\n",
      "15/15 [==============================] - 5s 355ms/step - loss: 0.0021 - val_loss: 2.3952e-04\n",
      "Epoch 28/100\n",
      "15/15 [==============================] - 5s 368ms/step - loss: 0.0017 - val_loss: 1.8584e-04\n",
      "Epoch 29/100\n",
      "15/15 [==============================] - 6s 370ms/step - loss: 0.0014 - val_loss: 2.3718e-04\n",
      "Epoch 30/100\n",
      "15/15 [==============================] - 6s 379ms/step - loss: 0.0014 - val_loss: 1.8701e-04\n",
      "Epoch 31/100\n",
      "15/15 [==============================] - 5s 366ms/step - loss: 0.0029 - val_loss: 5.4048e-04\n",
      "Epoch 32/100\n",
      "15/15 [==============================] - 6s 372ms/step - loss: 0.0021 - val_loss: 6.4682e-04\n",
      "Epoch 33/100\n",
      "15/15 [==============================] - 5s 363ms/step - loss: 0.0032 - val_loss: 0.0013\n",
      "Epoch 34/100\n",
      "15/15 [==============================] - 5s 363ms/step - loss: 0.0021 - val_loss: 2.1049e-04\n",
      "Epoch 35/100\n",
      "15/15 [==============================] - 6s 375ms/step - loss: 0.0022 - val_loss: 2.7707e-04\n",
      "Epoch 36/100\n",
      "15/15 [==============================] - 5s 359ms/step - loss: 0.0017 - val_loss: 4.5479e-04\n",
      "Epoch 37/100\n",
      "15/15 [==============================] - 4s 296ms/step - loss: 0.0022 - val_loss: 1.5947e-04\n",
      "Epoch 38/100\n",
      "15/15 [==============================] - 6s 370ms/step - loss: 0.0014 - val_loss: 2.0202e-04\n",
      "Epoch 39/100\n",
      "15/15 [==============================] - 5s 365ms/step - loss: 0.0017 - val_loss: 2.4427e-04\n",
      "Epoch 40/100\n",
      "15/15 [==============================] - 6s 372ms/step - loss: 0.0018 - val_loss: 1.6208e-04\n",
      "Epoch 41/100\n",
      "15/15 [==============================] - 6s 380ms/step - loss: 0.0015 - val_loss: 2.9832e-04\n",
      "Epoch 42/100\n",
      "15/15 [==============================] - 6s 372ms/step - loss: 0.0014 - val_loss: 1.6664e-04\n",
      "Epoch 43/100\n",
      "15/15 [==============================] - 6s 384ms/step - loss: 0.0012 - val_loss: 1.8898e-04\n",
      "Epoch 44/100\n",
      "15/15 [==============================] - 6s 376ms/step - loss: 0.0019 - val_loss: 1.6435e-04\n",
      "Epoch 45/100\n",
      "15/15 [==============================] - 6s 374ms/step - loss: 0.0014 - val_loss: 1.7960e-04\n",
      "Epoch 46/100\n",
      "15/15 [==============================] - 6s 375ms/step - loss: 0.0016 - val_loss: 2.0968e-04\n",
      "Epoch 47/100\n",
      "15/15 [==============================] - 6s 378ms/step - loss: 0.0016 - val_loss: 1.5059e-04\n",
      "Epoch 48/100\n",
      "15/15 [==============================] - 6s 379ms/step - loss: 0.0015 - val_loss: 1.5094e-04\n",
      "Epoch 49/100\n",
      "15/15 [==============================] - 5s 365ms/step - loss: 0.0013 - val_loss: 1.5439e-04\n",
      "Epoch 50/100\n",
      "15/15 [==============================] - 5s 359ms/step - loss: 0.0016 - val_loss: 2.3936e-04\n",
      "Epoch 51/100\n",
      "15/15 [==============================] - 6s 371ms/step - loss: 0.0015 - val_loss: 1.5335e-04\n",
      "Epoch 52/100\n",
      "15/15 [==============================] - 5s 365ms/step - loss: 0.0016 - val_loss: 2.4153e-04\n",
      "Epoch 53/100\n",
      "15/15 [==============================] - 5s 367ms/step - loss: 0.0016 - val_loss: 3.6855e-04\n",
      "Epoch 54/100\n",
      "15/15 [==============================] - 5s 365ms/step - loss: 0.0012 - val_loss: 1.5350e-04\n",
      "Epoch 55/100\n",
      "15/15 [==============================] - 6s 370ms/step - loss: 0.0012 - val_loss: 1.9210e-04\n",
      "Epoch 56/100\n",
      "15/15 [==============================] - 6s 371ms/step - loss: 0.0014 - val_loss: 1.8932e-04\n",
      "Epoch 57/100\n",
      "15/15 [==============================] - 6s 377ms/step - loss: 0.0011 - val_loss: 2.1865e-04\n",
      "Epoch 58/100\n",
      "15/15 [==============================] - 5s 366ms/step - loss: 0.0011 - val_loss: 1.8893e-04\n",
      "Epoch 59/100\n",
      "15/15 [==============================] - 5s 351ms/step - loss: 0.0016 - val_loss: 1.6404e-04\n",
      "Epoch 60/100\n",
      "15/15 [==============================] - 5s 349ms/step - loss: 0.0014 - val_loss: 1.6783e-04\n",
      "Epoch 61/100\n",
      "15/15 [==============================] - 5s 321ms/step - loss: 0.0012 - val_loss: 2.9386e-04\n",
      "Epoch 62/100\n",
      "15/15 [==============================] - 5s 314ms/step - loss: 9.9621e-04 - val_loss: 2.4777e-04\n",
      "Epoch 63/100\n",
      "15/15 [==============================] - 5s 343ms/step - loss: 0.0010 - val_loss: 1.4752e-04\n",
      "Epoch 64/100\n",
      "15/15 [==============================] - 5s 315ms/step - loss: 9.0361e-04 - val_loss: 2.7066e-04\n",
      "Epoch 65/100\n",
      "15/15 [==============================] - 5s 318ms/step - loss: 0.0014 - val_loss: 4.8078e-04\n",
      "Epoch 66/100\n",
      "15/15 [==============================] - 5s 340ms/step - loss: 0.0014 - val_loss: 1.6365e-04\n",
      "Epoch 67/100\n",
      "15/15 [==============================] - 5s 348ms/step - loss: 0.0011 - val_loss: 1.8670e-04\n",
      "Epoch 68/100\n",
      "15/15 [==============================] - 5s 336ms/step - loss: 0.0013 - val_loss: 1.5018e-04\n",
      "Epoch 69/100\n",
      "15/15 [==============================] - 5s 325ms/step - loss: 0.0011 - val_loss: 1.5870e-04\n",
      "Epoch 70/100\n",
      "15/15 [==============================] - 5s 304ms/step - loss: 0.0011 - val_loss: 1.3895e-04\n",
      "Epoch 71/100\n",
      "15/15 [==============================] - 5s 325ms/step - loss: 0.0011 - val_loss: 1.4541e-04\n",
      "Epoch 72/100\n",
      "15/15 [==============================] - 5s 317ms/step - loss: 0.0027 - val_loss: 6.9492e-04\n",
      "Epoch 73/100\n",
      "15/15 [==============================] - 5s 309ms/step - loss: 0.0018 - val_loss: 3.6739e-04\n",
      "Epoch 74/100\n",
      "15/15 [==============================] - 5s 329ms/step - loss: 0.0016 - val_loss: 1.5251e-04\n",
      "Epoch 75/100\n",
      "15/15 [==============================] - 5s 343ms/step - loss: 0.0010 - val_loss: 2.1606e-04\n",
      "Epoch 76/100\n",
      "15/15 [==============================] - 5s 359ms/step - loss: 8.9394e-04 - val_loss: 2.4003e-04\n",
      "Epoch 77/100\n",
      "15/15 [==============================] - 5s 357ms/step - loss: 0.0026 - val_loss: 2.6883e-04\n",
      "Epoch 78/100\n"
     ]
    },
    {
     "name": "stdout",
     "output_type": "stream",
     "text": [
      "15/15 [==============================] - 5s 351ms/step - loss: 0.0027 - val_loss: 1.8140e-04\n",
      "Epoch 79/100\n",
      "15/15 [==============================] - 5s 318ms/step - loss: 0.0019 - val_loss: 1.6297e-04\n",
      "Epoch 80/100\n",
      "15/15 [==============================] - 5s 334ms/step - loss: 0.0017 - val_loss: 1.3635e-04\n",
      "Epoch 81/100\n",
      "15/15 [==============================] - 5s 351ms/step - loss: 0.0016 - val_loss: 2.9571e-04\n",
      "Epoch 82/100\n",
      "15/15 [==============================] - 5s 324ms/step - loss: 0.0013 - val_loss: 1.3569e-04\n",
      "Epoch 83/100\n",
      "15/15 [==============================] - 5s 321ms/step - loss: 0.0012 - val_loss: 2.2828e-04\n",
      "Epoch 84/100\n",
      "15/15 [==============================] - 5s 312ms/step - loss: 9.6223e-04 - val_loss: 1.3005e-04\n",
      "Epoch 85/100\n",
      "15/15 [==============================] - 5s 313ms/step - loss: 0.0011 - val_loss: 1.2779e-04\n",
      "Epoch 86/100\n",
      "15/15 [==============================] - 5s 330ms/step - loss: 0.0011 - val_loss: 1.7788e-04\n",
      "Epoch 87/100\n",
      "15/15 [==============================] - 5s 332ms/step - loss: 9.5847e-04 - val_loss: 1.5172e-04\n",
      "Epoch 88/100\n",
      "15/15 [==============================] - 5s 308ms/step - loss: 9.8882e-04 - val_loss: 1.6908e-04\n",
      "Epoch 89/100\n",
      "15/15 [==============================] - 5s 352ms/step - loss: 9.2094e-04 - val_loss: 1.4276e-04\n",
      "Epoch 90/100\n",
      "15/15 [==============================] - 6s 376ms/step - loss: 6.4728e-04 - val_loss: 1.5691e-04\n",
      "Epoch 91/100\n",
      "15/15 [==============================] - 5s 366ms/step - loss: 0.0045 - val_loss: 3.9027e-04\n",
      "Epoch 92/100\n",
      "15/15 [==============================] - 5s 351ms/step - loss: 0.0050 - val_loss: 3.0795e-04\n",
      "Epoch 93/100\n",
      "15/15 [==============================] - 5s 348ms/step - loss: 0.0034 - val_loss: 4.8396e-04\n",
      "Epoch 94/100\n",
      "15/15 [==============================] - 5s 344ms/step - loss: 0.0018 - val_loss: 1.2133e-04\n",
      "Epoch 95/100\n",
      "15/15 [==============================] - 5s 339ms/step - loss: 0.0015 - val_loss: 1.4536e-04\n",
      "Epoch 96/100\n",
      " 3/15 [=====>........................] - ETA: 3s - loss: 4.9088e-04"
     ]
    }
   ],
   "source": [
    "model.fit(X_train,y_train,validation_data=(X_test,ytest),epochs=100,batch_size=64,verbose=1)"
   ]
  },
  {
   "cell_type": "code",
   "execution_count": null,
   "id": "98a73408",
   "metadata": {},
   "outputs": [],
   "source": [
    "import tensorflow as tf"
   ]
  },
  {
   "cell_type": "code",
   "execution_count": null,
   "id": "d5a6a44f",
   "metadata": {
    "scrolled": true
   },
   "outputs": [],
   "source": [
    "### Lets Do the prediction and check performance metrics\n",
    "train_predict=model.predict(X_train)\n",
    "test_predict=model.predict(X_test)"
   ]
  },
  {
   "cell_type": "code",
   "execution_count": null,
   "id": "deb1ec28",
   "metadata": {},
   "outputs": [],
   "source": [
    "##Transformback to original form\n",
    "train_predict=scaler.inverse_transform(train_predict)\n",
    "test_predict=scaler.inverse_transform(test_predict)"
   ]
  },
  {
   "cell_type": "code",
   "execution_count": null,
   "id": "855834c5",
   "metadata": {},
   "outputs": [],
   "source": [
    "# calculate RMSE performance metrics\n",
    "import math\n",
    "from sklearn.metrics import mean_squared_error\n",
    "\n",
    "train_rmse = math.sqrt(mean_squared_error(y_train, train_predict))\n",
    "test_rmse = math.sqrt(mean_squared_error(ytest, test_predict))\n",
    "\n",
    "# calculate accuracy percentage\n",
    "max_val = scaler.inverse_transform([[1]])[0,0]\n",
    "min_val = scaler.inverse_transform([[0]])[0,0]\n",
    "train_accuracy = 100 - train_rmse * 100 / (max_val - min_val)\n",
    "test_accuracy = 100 - test_rmse * 100 / (max_val - min_val)\n",
    "\n",
    "# print results\n",
    "print(f\"Train RMSE: {train_rmse:.2f}, Train Accuracy: {train_accuracy:.2f}%\")\n",
    "print(f\"Test RMSE: {test_rmse:.2f}, Test Accuracy: {test_accuracy:.2f}%\")\n"
   ]
  },
  {
   "cell_type": "code",
   "execution_count": null,
   "id": "787a8299",
   "metadata": {},
   "outputs": [],
   "source": [
    "### Plotting \n",
    "# shift train predictions for plotting\n",
    "look_back=100\n",
    "trainPredictPlot = numpy.empty_like(df1)\n",
    "trainPredictPlot[:, :] = np.nan\n",
    "trainPredictPlot[look_back:len(train_predict)+look_back, :] = train_predict\n",
    "# shift test predictions for plotting\n",
    "testPredictPlot = numpy.empty_like(df1)\n",
    "testPredictPlot[:, :] = numpy.nan\n",
    "testPredictPlot[len(train_predict)+(look_back*2)+1:len(df1)-1, :] = test_predict\n",
    "# plot baseline and predictions\n",
    "plt.plot(scaler.inverse_transform(df1))\n",
    "plt.plot(trainPredictPlot)\n",
    "plt.plot(testPredictPlot)\n",
    "plt.show()"
   ]
  },
  {
   "cell_type": "code",
   "execution_count": null,
   "id": "c4cd4ef5",
   "metadata": {},
   "outputs": [],
   "source": [
    "\n",
    "len(test_data)"
   ]
  },
  {
   "cell_type": "code",
   "execution_count": null,
   "id": "ee5a3769",
   "metadata": {},
   "outputs": [],
   "source": [
    "x_input=test_data[152:].reshape(1,-1)\n",
    "x_input.shape"
   ]
  },
  {
   "cell_type": "code",
   "execution_count": null,
   "id": "e9014114",
   "metadata": {},
   "outputs": [],
   "source": [
    "temp_input=list(x_input)\n",
    "temp_input=temp_input[0].tolist()"
   ]
  },
  {
   "cell_type": "code",
   "execution_count": null,
   "id": "c936a9c9",
   "metadata": {},
   "outputs": [],
   "source": [
    "temp_input"
   ]
  },
  {
   "cell_type": "code",
   "execution_count": null,
   "id": "42c956bb",
   "metadata": {},
   "outputs": [],
   "source": [
    "# demonstrate prediction for next 30 days\n",
    "from numpy import array\n",
    "\n",
    "lst_output=[]\n",
    "n_steps=100\n",
    "i=0\n",
    "while(i<30):\n",
    "    \n",
    "    if(len(temp_input)>100):\n",
    "        #print(temp_input)\n",
    "        x_input=np.array(temp_input[1:])\n",
    "        print(\"{} day input {}\".format(i,x_input))\n",
    "        x_input=x_input.reshape(1,-1)\n",
    "        x_input = x_input.reshape((1, n_steps, 1))\n",
    "        #print(x_input)\n",
    "        yhat = model.predict(x_input, verbose=0)\n",
    "        print(\"{} day output {}\".format(i,yhat))\n",
    "        temp_input.extend(yhat[0].tolist())\n",
    "        temp_input=temp_input[1:]\n",
    "        #print(temp_input)\n",
    "        lst_output.extend(yhat.tolist())\n",
    "        i=i+1\n",
    "    else:\n",
    "        x_input = x_input.reshape((1, n_steps,1))\n",
    "        yhat = model.predict(x_input, verbose=0)\n",
    "        print(yhat[0])\n",
    "        temp_input.extend(yhat[0].tolist())\n",
    "        print(len(temp_input))\n",
    "        lst_output.extend(yhat.tolist())\n",
    "        i=i+1\n",
    "    \n",
    "\n",
    "print(lst_output)\n"
   ]
  },
  {
   "cell_type": "code",
   "execution_count": null,
   "id": "670bf332",
   "metadata": {},
   "outputs": [],
   "source": [
    "day_new=np.arange(1,101)\n",
    "day_pred=np.arange(101,131)"
   ]
  },
  {
   "cell_type": "code",
   "execution_count": null,
   "id": "7c8dba5a",
   "metadata": {},
   "outputs": [],
   "source": [
    "import matplotlib.pyplot as plt"
   ]
  },
  {
   "cell_type": "code",
   "execution_count": null,
   "id": "e7b5b7fd",
   "metadata": {},
   "outputs": [],
   "source": [
    "len(df1)"
   ]
  },
  {
   "cell_type": "code",
   "execution_count": null,
   "id": "1e0950c9",
   "metadata": {},
   "outputs": [],
   "source": [
    "plt.plot(day_new,scaler.inverse_transform(df1[1157:]))\n",
    "plt.plot(day_pred,scaler.inverse_transform(lst_output))\n"
   ]
  },
  {
   "cell_type": "code",
   "execution_count": null,
   "id": "6eb149ec",
   "metadata": {},
   "outputs": [],
   "source": [
    "df3=df1.tolist()\n",
    "df3.extend(lst_output)\n",
    "plt.plot(df3[1157:])\n"
   ]
  },
  {
   "cell_type": "code",
   "execution_count": null,
   "id": "437c54f3",
   "metadata": {},
   "outputs": [],
   "source": [
    "df3=scaler.inverse_transform(df3).tolist()"
   ]
  },
  {
   "cell_type": "code",
   "execution_count": null,
   "id": "8468638c",
   "metadata": {},
   "outputs": [],
   "source": [
    "plt.plot(df3)"
   ]
  },
  {
   "cell_type": "code",
   "execution_count": null,
   "id": "f277b1f0",
   "metadata": {},
   "outputs": [],
   "source": []
  }
 ],
 "metadata": {
  "kernelspec": {
   "display_name": "Python 3 (ipykernel)",
   "language": "python",
   "name": "python3"
  },
  "language_info": {
   "codemirror_mode": {
    "name": "ipython",
    "version": 3
   },
   "file_extension": ".py",
   "mimetype": "text/x-python",
   "name": "python",
   "nbconvert_exporter": "python",
   "pygments_lexer": "ipython3",
   "version": "3.10.9"
  }
 },
 "nbformat": 4,
 "nbformat_minor": 5
}
