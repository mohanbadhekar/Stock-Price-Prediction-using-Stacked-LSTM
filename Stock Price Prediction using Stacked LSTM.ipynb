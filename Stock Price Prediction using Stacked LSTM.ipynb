{
 "cells": [
  {
   "cell_type": "code",
   "execution_count": 1,
   "id": "8ef989e6",
   "metadata": {},
   "outputs": [],
   "source": [
    "### Keras and Tensorflow >2.0"
   ]
  },
  {
   "cell_type": "code",
   "execution_count": 2,
   "id": "481b2349",
   "metadata": {},
   "outputs": [],
   "source": [
    "### Data Collection\n",
    "import pandas_datareader as pdr\n",
    "key=\"debee8d1a1092fd0ca4570863e6c2100eaa113bc\""
   ]
  },
  {
   "cell_type": "code",
   "execution_count": 3,
   "id": "2b458b17",
   "metadata": {},
   "outputs": [
    {
     "name": "stderr",
     "output_type": "stream",
     "text": [
      "C:\\Users\\mohan\\AppData\\Roaming\\Python\\Python310\\site-packages\\pandas_datareader\\tiingo.py:234: FutureWarning: In a future version of pandas all arguments of concat except for the argument 'objs' will be keyword-only.\n",
      "  return pd.concat(dfs, self._concat_axis)\n"
     ]
    }
   ],
   "source": [
    "df = pdr.get_data_tiingo('TSLA', api_key=key)"
   ]
  },
  {
   "cell_type": "code",
   "execution_count": 4,
   "id": "50967c92",
   "metadata": {},
   "outputs": [],
   "source": [
    "df.to_csv('TSLA.csv')"
   ]
  },
  {
   "cell_type": "code",
   "execution_count": 5,
   "id": "8604d5e2",
   "metadata": {},
   "outputs": [],
   "source": [
    "import pandas as pd"
   ]
  },
  {
   "cell_type": "code",
   "execution_count": 6,
   "id": "b9645767",
   "metadata": {},
   "outputs": [],
   "source": [
    "df=pd.read_csv('TSLA.csv')"
   ]
  },
  {
   "cell_type": "code",
   "execution_count": 7,
   "id": "37398180",
   "metadata": {},
   "outputs": [
    {
     "data": {
      "text/html": [
       "<div>\n",
       "<style scoped>\n",
       "    .dataframe tbody tr th:only-of-type {\n",
       "        vertical-align: middle;\n",
       "    }\n",
       "\n",
       "    .dataframe tbody tr th {\n",
       "        vertical-align: top;\n",
       "    }\n",
       "\n",
       "    .dataframe thead th {\n",
       "        text-align: right;\n",
       "    }\n",
       "</style>\n",
       "<table border=\"1\" class=\"dataframe\">\n",
       "  <thead>\n",
       "    <tr style=\"text-align: right;\">\n",
       "      <th></th>\n",
       "      <th>symbol</th>\n",
       "      <th>date</th>\n",
       "      <th>close</th>\n",
       "      <th>high</th>\n",
       "      <th>low</th>\n",
       "      <th>open</th>\n",
       "      <th>volume</th>\n",
       "      <th>adjClose</th>\n",
       "      <th>adjHigh</th>\n",
       "      <th>adjLow</th>\n",
       "      <th>adjOpen</th>\n",
       "      <th>adjVolume</th>\n",
       "      <th>divCash</th>\n",
       "      <th>splitFactor</th>\n",
       "    </tr>\n",
       "  </thead>\n",
       "  <tbody>\n",
       "    <tr>\n",
       "      <th>0</th>\n",
       "      <td>TSLA</td>\n",
       "      <td>2018-06-04 00:00:00+00:00</td>\n",
       "      <td>296.74</td>\n",
       "      <td>299.00</td>\n",
       "      <td>293.55</td>\n",
       "      <td>294.34</td>\n",
       "      <td>4797810</td>\n",
       "      <td>19.782667</td>\n",
       "      <td>19.933333</td>\n",
       "      <td>19.570000</td>\n",
       "      <td>19.622667</td>\n",
       "      <td>71967150</td>\n",
       "      <td>0.0</td>\n",
       "      <td>1.0</td>\n",
       "    </tr>\n",
       "    <tr>\n",
       "      <th>1</th>\n",
       "      <td>TSLA</td>\n",
       "      <td>2018-06-05 00:00:00+00:00</td>\n",
       "      <td>291.13</td>\n",
       "      <td>297.80</td>\n",
       "      <td>286.74</td>\n",
       "      <td>297.70</td>\n",
       "      <td>5995157</td>\n",
       "      <td>19.408667</td>\n",
       "      <td>19.853333</td>\n",
       "      <td>19.116000</td>\n",
       "      <td>19.846667</td>\n",
       "      <td>89927355</td>\n",
       "      <td>0.0</td>\n",
       "      <td>1.0</td>\n",
       "    </tr>\n",
       "    <tr>\n",
       "      <th>2</th>\n",
       "      <td>TSLA</td>\n",
       "      <td>2018-06-06 00:00:00+00:00</td>\n",
       "      <td>319.50</td>\n",
       "      <td>322.17</td>\n",
       "      <td>297.48</td>\n",
       "      <td>300.50</td>\n",
       "      <td>18767269</td>\n",
       "      <td>21.300000</td>\n",
       "      <td>21.478000</td>\n",
       "      <td>19.832000</td>\n",
       "      <td>20.033333</td>\n",
       "      <td>281509035</td>\n",
       "      <td>0.0</td>\n",
       "      <td>1.0</td>\n",
       "    </tr>\n",
       "    <tr>\n",
       "      <th>3</th>\n",
       "      <td>TSLA</td>\n",
       "      <td>2018-06-07 00:00:00+00:00</td>\n",
       "      <td>316.09</td>\n",
       "      <td>330.00</td>\n",
       "      <td>313.58</td>\n",
       "      <td>316.15</td>\n",
       "      <td>14345271</td>\n",
       "      <td>21.072667</td>\n",
       "      <td>22.000000</td>\n",
       "      <td>20.905333</td>\n",
       "      <td>21.076667</td>\n",
       "      <td>215179065</td>\n",
       "      <td>0.0</td>\n",
       "      <td>1.0</td>\n",
       "    </tr>\n",
       "    <tr>\n",
       "      <th>4</th>\n",
       "      <td>TSLA</td>\n",
       "      <td>2018-06-08 00:00:00+00:00</td>\n",
       "      <td>317.66</td>\n",
       "      <td>324.48</td>\n",
       "      <td>317.15</td>\n",
       "      <td>319.00</td>\n",
       "      <td>8205202</td>\n",
       "      <td>21.177333</td>\n",
       "      <td>21.632000</td>\n",
       "      <td>21.143333</td>\n",
       "      <td>21.266667</td>\n",
       "      <td>123078030</td>\n",
       "      <td>0.0</td>\n",
       "      <td>1.0</td>\n",
       "    </tr>\n",
       "  </tbody>\n",
       "</table>\n",
       "</div>"
      ],
      "text/plain": [
       "  symbol                       date   close    high     low    open    volume  \\\n",
       "0   TSLA  2018-06-04 00:00:00+00:00  296.74  299.00  293.55  294.34   4797810   \n",
       "1   TSLA  2018-06-05 00:00:00+00:00  291.13  297.80  286.74  297.70   5995157   \n",
       "2   TSLA  2018-06-06 00:00:00+00:00  319.50  322.17  297.48  300.50  18767269   \n",
       "3   TSLA  2018-06-07 00:00:00+00:00  316.09  330.00  313.58  316.15  14345271   \n",
       "4   TSLA  2018-06-08 00:00:00+00:00  317.66  324.48  317.15  319.00   8205202   \n",
       "\n",
       "    adjClose    adjHigh     adjLow    adjOpen  adjVolume  divCash  splitFactor  \n",
       "0  19.782667  19.933333  19.570000  19.622667   71967150      0.0          1.0  \n",
       "1  19.408667  19.853333  19.116000  19.846667   89927355      0.0          1.0  \n",
       "2  21.300000  21.478000  19.832000  20.033333  281509035      0.0          1.0  \n",
       "3  21.072667  22.000000  20.905333  21.076667  215179065      0.0          1.0  \n",
       "4  21.177333  21.632000  21.143333  21.266667  123078030      0.0          1.0  "
      ]
     },
     "execution_count": 7,
     "metadata": {},
     "output_type": "execute_result"
    }
   ],
   "source": [
    "df.head()"
   ]
  },
  {
   "cell_type": "code",
   "execution_count": 8,
   "id": "7953f3cf",
   "metadata": {},
   "outputs": [
    {
     "data": {
      "text/html": [
       "<div>\n",
       "<style scoped>\n",
       "    .dataframe tbody tr th:only-of-type {\n",
       "        vertical-align: middle;\n",
       "    }\n",
       "\n",
       "    .dataframe tbody tr th {\n",
       "        vertical-align: top;\n",
       "    }\n",
       "\n",
       "    .dataframe thead th {\n",
       "        text-align: right;\n",
       "    }\n",
       "</style>\n",
       "<table border=\"1\" class=\"dataframe\">\n",
       "  <thead>\n",
       "    <tr style=\"text-align: right;\">\n",
       "      <th></th>\n",
       "      <th>symbol</th>\n",
       "      <th>date</th>\n",
       "      <th>close</th>\n",
       "      <th>high</th>\n",
       "      <th>low</th>\n",
       "      <th>open</th>\n",
       "      <th>volume</th>\n",
       "      <th>adjClose</th>\n",
       "      <th>adjHigh</th>\n",
       "      <th>adjLow</th>\n",
       "      <th>adjOpen</th>\n",
       "      <th>adjVolume</th>\n",
       "      <th>divCash</th>\n",
       "      <th>splitFactor</th>\n",
       "    </tr>\n",
       "  </thead>\n",
       "  <tbody>\n",
       "    <tr>\n",
       "      <th>1253</th>\n",
       "      <td>TSLA</td>\n",
       "      <td>2023-05-25 00:00:00+00:00</td>\n",
       "      <td>184.47</td>\n",
       "      <td>186.78</td>\n",
       "      <td>180.58</td>\n",
       "      <td>186.54</td>\n",
       "      <td>96870719</td>\n",
       "      <td>184.47</td>\n",
       "      <td>186.78</td>\n",
       "      <td>180.58</td>\n",
       "      <td>186.54</td>\n",
       "      <td>96870719</td>\n",
       "      <td>0.0</td>\n",
       "      <td>1.0</td>\n",
       "    </tr>\n",
       "    <tr>\n",
       "      <th>1254</th>\n",
       "      <td>TSLA</td>\n",
       "      <td>2023-05-26 00:00:00+00:00</td>\n",
       "      <td>193.17</td>\n",
       "      <td>198.60</td>\n",
       "      <td>184.53</td>\n",
       "      <td>184.62</td>\n",
       "      <td>162061496</td>\n",
       "      <td>193.17</td>\n",
       "      <td>198.60</td>\n",
       "      <td>184.53</td>\n",
       "      <td>184.62</td>\n",
       "      <td>162061496</td>\n",
       "      <td>0.0</td>\n",
       "      <td>1.0</td>\n",
       "    </tr>\n",
       "    <tr>\n",
       "      <th>1255</th>\n",
       "      <td>TSLA</td>\n",
       "      <td>2023-05-30 00:00:00+00:00</td>\n",
       "      <td>201.16</td>\n",
       "      <td>204.48</td>\n",
       "      <td>197.53</td>\n",
       "      <td>200.10</td>\n",
       "      <td>128818746</td>\n",
       "      <td>201.16</td>\n",
       "      <td>204.48</td>\n",
       "      <td>197.53</td>\n",
       "      <td>200.10</td>\n",
       "      <td>128818746</td>\n",
       "      <td>0.0</td>\n",
       "      <td>1.0</td>\n",
       "    </tr>\n",
       "    <tr>\n",
       "      <th>1256</th>\n",
       "      <td>TSLA</td>\n",
       "      <td>2023-05-31 00:00:00+00:00</td>\n",
       "      <td>203.93</td>\n",
       "      <td>203.95</td>\n",
       "      <td>195.12</td>\n",
       "      <td>199.78</td>\n",
       "      <td>149356274</td>\n",
       "      <td>203.93</td>\n",
       "      <td>203.95</td>\n",
       "      <td>195.12</td>\n",
       "      <td>199.78</td>\n",
       "      <td>149356274</td>\n",
       "      <td>0.0</td>\n",
       "      <td>1.0</td>\n",
       "    </tr>\n",
       "    <tr>\n",
       "      <th>1257</th>\n",
       "      <td>TSLA</td>\n",
       "      <td>2023-06-01 00:00:00+00:00</td>\n",
       "      <td>207.52</td>\n",
       "      <td>209.80</td>\n",
       "      <td>199.37</td>\n",
       "      <td>202.59</td>\n",
       "      <td>148029931</td>\n",
       "      <td>207.52</td>\n",
       "      <td>209.80</td>\n",
       "      <td>199.37</td>\n",
       "      <td>202.59</td>\n",
       "      <td>148029931</td>\n",
       "      <td>0.0</td>\n",
       "      <td>1.0</td>\n",
       "    </tr>\n",
       "  </tbody>\n",
       "</table>\n",
       "</div>"
      ],
      "text/plain": [
       "     symbol                       date   close    high     low    open  \\\n",
       "1253   TSLA  2023-05-25 00:00:00+00:00  184.47  186.78  180.58  186.54   \n",
       "1254   TSLA  2023-05-26 00:00:00+00:00  193.17  198.60  184.53  184.62   \n",
       "1255   TSLA  2023-05-30 00:00:00+00:00  201.16  204.48  197.53  200.10   \n",
       "1256   TSLA  2023-05-31 00:00:00+00:00  203.93  203.95  195.12  199.78   \n",
       "1257   TSLA  2023-06-01 00:00:00+00:00  207.52  209.80  199.37  202.59   \n",
       "\n",
       "         volume  adjClose  adjHigh  adjLow  adjOpen  adjVolume  divCash  \\\n",
       "1253   96870719    184.47   186.78  180.58   186.54   96870719      0.0   \n",
       "1254  162061496    193.17   198.60  184.53   184.62  162061496      0.0   \n",
       "1255  128818746    201.16   204.48  197.53   200.10  128818746      0.0   \n",
       "1256  149356274    203.93   203.95  195.12   199.78  149356274      0.0   \n",
       "1257  148029931    207.52   209.80  199.37   202.59  148029931      0.0   \n",
       "\n",
       "      splitFactor  \n",
       "1253          1.0  \n",
       "1254          1.0  \n",
       "1255          1.0  \n",
       "1256          1.0  \n",
       "1257          1.0  "
      ]
     },
     "execution_count": 8,
     "metadata": {},
     "output_type": "execute_result"
    }
   ],
   "source": [
    "df.tail()"
   ]
  },
  {
   "cell_type": "code",
   "execution_count": 9,
   "id": "9a61f76d",
   "metadata": {},
   "outputs": [],
   "source": [
    "df1=df.reset_index()['close']"
   ]
  },
  {
   "cell_type": "code",
   "execution_count": 10,
   "id": "534b8eb5",
   "metadata": {},
   "outputs": [
    {
     "data": {
      "text/plain": [
       "0       296.74\n",
       "1       291.13\n",
       "2       319.50\n",
       "3       316.09\n",
       "4       317.66\n",
       "         ...  \n",
       "1253    184.47\n",
       "1254    193.17\n",
       "1255    201.16\n",
       "1256    203.93\n",
       "1257    207.52\n",
       "Name: close, Length: 1258, dtype: float64"
      ]
     },
     "execution_count": 10,
     "metadata": {},
     "output_type": "execute_result"
    }
   ],
   "source": [
    "df1"
   ]
  },
  {
   "cell_type": "code",
   "execution_count": 11,
   "id": "6a082355",
   "metadata": {},
   "outputs": [
    {
     "data": {
      "text/plain": [
       "[<matplotlib.lines.Line2D at 0x1e8864d9300>]"
      ]
     },
     "execution_count": 11,
     "metadata": {},
     "output_type": "execute_result"
    },
    {
     "data": {
      "image/png": "[encoded data removed]",
      "text/plain": [
       "<Figure size 640x480 with 1 Axes>"
      ]
     },
     "metadata": {},
     "output_type": "display_data"
    }
   ],
   "source": [
    "import matplotlib.pyplot as plt\n",
    "plt.plot(df1)"
   ]
  },
  {
   "cell_type": "code",
   "execution_count": 12,
   "id": "107f8ccd",
   "metadata": {},
   "outputs": [],
   "source": [
    "\n",
    "### LSTM are sensitive to the scale of the data. so we apply MinMax scaler"
   ]
  },
  {
   "cell_type": "code",
   "execution_count": 13,
   "id": "32ea90bb",
   "metadata": {},
   "outputs": [],
   "source": [
    "import numpy as np"
   ]
  },
  {
   "cell_type": "code",
   "execution_count": 14,
   "id": "8f254b6f",
   "metadata": {},
   "outputs": [],
   "source": [
    "from sklearn.preprocessing import MinMaxScaler\n",
    "scaler=MinMaxScaler(feature_range=(0,1))\n",
    "df1=scaler.fit_transform(np.array(df1).reshape(-1,1))"
   ]
  },
  {
   "cell_type": "code",
   "execution_count": 15,
   "id": "ce571fda",
   "metadata": {
    "scrolled": true
   },
   "outputs": [
    {
     "name": "stdout",
     "output_type": "stream",
     "text": [
      "[[0.08853636]\n",
      " [0.08590336]\n",
      " [0.09921855]\n",
      " ...\n",
      " [0.04367681]\n",
      " [0.04497688]\n",
      " [0.04666182]]\n"
     ]
    }
   ],
   "source": [
    "print(df1)"
   ]
  },
  {
   "cell_type": "code",
   "execution_count": 16,
   "id": "c3444c73",
   "metadata": {},
   "outputs": [],
   "source": [
    "##splitting dataset into train and test split\n",
    "training_size=int(len(df1)*0.80)\n",
    "test_size=len(df1)-training_size\n",
    "train_data,test_data=df1[0:training_size,:],df1[training_size:len(df1),:1]"
   ]
  },
  {
   "cell_type": "code",
   "execution_count": 17,
   "id": "28f08795",
   "metadata": {},
   "outputs": [
    {
     "data": {
      "text/plain": [
       "(1006, 252)"
      ]
     },
     "execution_count": 17,
     "metadata": {},
     "output_type": "execute_result"
    }
   ],
   "source": [
    "\n",
    "training_size,test_size"
   ]
  },
  {
   "cell_type": "code",
   "execution_count": 18,
   "id": "8f41fa8f",
   "metadata": {},
   "outputs": [
    {
     "data": {
      "text/plain": [
       "array([[0.08853636],\n",
       "       [0.08590336],\n",
       "       [0.09921855],\n",
       "       ...,\n",
       "       [0.28143055],\n",
       "       [0.30578931],\n",
       "       [0.30514632]])"
      ]
     },
     "execution_count": 18,
     "metadata": {},
     "output_type": "execute_result"
    }
   ],
   "source": [
    "train_data"
   ]
  },
  {
   "cell_type": "code",
   "execution_count": 19,
   "id": "ac17947d",
   "metadata": {},
   "outputs": [],
   "source": [
    "import numpy\n",
    "# convert an array of values into a dataset matrix\n",
    "def create_dataset(dataset, time_step=1):\n",
    "\tdataX, dataY = [], []\n",
    "\tfor i in range(len(dataset)-time_step-1):\n",
    "\t\ta = dataset[i:(i+time_step), 0]   ###i=0, 0,1,2,3-----99   100 \n",
    "\t\tdataX.append(a)\n",
    "\t\tdataY.append(dataset[i + time_step, 0])\n",
    "\treturn numpy.array(dataX), numpy.array(dataY)"
   ]
  },
  {
   "cell_type": "code",
   "execution_count": 20,
   "id": "f475b72f",
   "metadata": {},
   "outputs": [],
   "source": [
    "# reshape into X=t,t+1,t+2,t+3 and Y=t+4\n",
    "time_step = 100\n",
    "X_train, y_train = create_dataset(train_data, time_step)\n",
    "X_test, ytest = create_dataset(test_data, time_step)"
   ]
  },
  {
   "cell_type": "code",
   "execution_count": 21,
   "id": "5bff1519",
   "metadata": {},
   "outputs": [
    {
     "name": "stdout",
     "output_type": "stream",
     "text": [
      "(905, 100)\n",
      "(905,)\n"
     ]
    },
    {
     "data": {
      "text/plain": [
       "(None, None)"
      ]
     },
     "execution_count": 21,
     "metadata": {},
     "output_type": "execute_result"
    }
   ],
   "source": [
    "print(X_train.shape), print(y_train.shape)"
   ]
  },
  {
   "cell_type": "code",
   "execution_count": 22,
   "id": "af49c4c5",
   "metadata": {},
   "outputs": [
    {
     "name": "stdout",
     "output_type": "stream",
     "text": [
      "(151, 100)\n",
      "(151,)\n"
     ]
    },
    {
     "data": {
      "text/plain": [
       "(None, None)"
      ]
     },
     "execution_count": 22,
     "metadata": {},
     "output_type": "execute_result"
    }
   ],
   "source": [
    "print(X_test.shape), print(ytest.shape)"
   ]
  },
  {
   "cell_type": "code",
   "execution_count": 23,
   "id": "483aacc1",
   "metadata": {},
   "outputs": [],
   "source": [
    "# reshape input to be [samples, time steps, features] which is required for LSTM\n",
    "X_train =X_train.reshape(X_train.shape[0],X_train.shape[1] , 1)\n",
    "X_test = X_test.reshape(X_test.shape[0],X_test.shape[1] , 1)"
   ]
  },
  {
   "cell_type": "code",
   "execution_count": 24,
   "id": "12427586",
   "metadata": {},
   "outputs": [],
   "source": [
    "### Create the Stacked LSTM model\n",
    "from tensorflow.keras.models import Sequential\n",
    "from tensorflow.keras.layers import Dense\n",
    "from tensorflow.keras.layers import LSTM"
   ]
  },
  {
   "cell_type": "code",
   "execution_count": 25,
   "id": "b99b8599",
   "metadata": {},
   "outputs": [],
   "source": [
    "model=Sequential()\n",
    "model.add(LSTM(50,return_sequences=True,input_shape=(100,1)))\n",
    "model.add(LSTM(50,return_sequences=True))\n",
    "model.add(LSTM(50))\n",
    "model.add(Dense(1))\n",
    "model.compile(loss='mean_squared_error',optimizer='adam')\n"
   ]
  },
  {
   "cell_type": "code",
   "execution_count": 26,
   "id": "83101fae",
   "metadata": {},
   "outputs": [
    {
     "name": "stdout",
     "output_type": "stream",
     "text": [
      "Model: \"sequential\"\n",
      "_________________________________________________________________\n",
      " Layer (type)                Output Shape              Param #   \n",
      "=================================================================\n",
      " lstm (LSTM)                 (None, 100, 50)           10400     \n",
      "                                                                 \n",
      " lstm_1 (LSTM)               (None, 100, 50)           20200     \n",
      "                                                                 \n",
      " lstm_2 (LSTM)               (None, 50)                20200     \n",
      "                                                                 \n",
      " dense (Dense)               (None, 1)                 51        \n",
      "                                                                 \n",
      "=================================================================\n",
      "Total params: 50,851\n",
      "Trainable params: 50,851\n",
      "Non-trainable params: 0\n",
      "_________________________________________________________________\n"
     ]
    }
   ],
   "source": [
    "model.summary()"
   ]
  },
  {
   "cell_type": "code",
   "execution_count": 27,
   "id": "f71f6384",
   "metadata": {},
   "outputs": [
    {
     "name": "stdout",
     "output_type": "stream",
     "text": [
      "Epoch 1/100\n",
      "15/15 [==============================] - 20s 550ms/step - loss: 0.0288 - val_loss: 0.0035\n",
      "Epoch 2/100\n",
      "15/15 [==============================] - 6s 389ms/step - loss: 0.0099 - val_loss: 0.0036\n",
      "Epoch 3/100\n",
      "15/15 [==============================] - 6s 415ms/step - loss: 0.0068 - val_loss: 1.5236e-04\n",
      "Epoch 4/100\n",
      "15/15 [==============================] - 6s 384ms/step - loss: 0.0063 - val_loss: 0.0011\n",
      "Epoch 5/100\n",
      "15/15 [==============================] - 5s 365ms/step - loss: 0.0059 - val_loss: 6.6021e-04\n",
      "Epoch 6/100\n",
      "15/15 [==============================] - 6s 379ms/step - loss: 0.0055 - val_loss: 0.0022\n",
      "Epoch 7/100\n",
      "15/15 [==============================] - 6s 384ms/step - loss: 0.0061 - val_loss: 2.5238e-04\n",
      "Epoch 8/100\n",
      "15/15 [==============================] - 6s 369ms/step - loss: 0.0061 - val_loss: 0.0023\n",
      "Epoch 9/100\n",
      "15/15 [==============================] - 6s 397ms/step - loss: 0.0049 - val_loss: 1.3658e-04\n",
      "Epoch 10/100\n",
      "15/15 [==============================] - 6s 387ms/step - loss: 0.0044 - val_loss: 2.5066e-04\n",
      "Epoch 11/100\n",
      "15/15 [==============================] - 6s 394ms/step - loss: 0.0041 - val_loss: 1.1889e-04\n",
      "Epoch 12/100\n",
      "15/15 [==============================] - 6s 386ms/step - loss: 0.0040 - val_loss: 2.2998e-04\n",
      "Epoch 13/100\n",
      "15/15 [==============================] - 5s 298ms/step - loss: 0.0039 - val_loss: 4.7385e-04\n",
      "Epoch 14/100\n",
      "15/15 [==============================] - 6s 370ms/step - loss: 0.0042 - val_loss: 5.1653e-04\n",
      "Epoch 15/100\n",
      "15/15 [==============================] - 6s 372ms/step - loss: 0.0036 - val_loss: 2.8190e-04\n",
      "Epoch 16/100\n",
      "15/15 [==============================] - 6s 372ms/step - loss: 0.0031 - val_loss: 3.4689e-04\n",
      "Epoch 17/100\n",
      "15/15 [==============================] - 6s 374ms/step - loss: 0.0028 - val_loss: 2.6624e-04\n",
      "Epoch 18/100\n",
      "15/15 [==============================] - 6s 378ms/step - loss: 0.0027 - val_loss: 1.4904e-04\n",
      "Epoch 19/100\n",
      "15/15 [==============================] - 6s 378ms/step - loss: 0.0022 - val_loss: 1.3408e-04\n",
      "Epoch 20/100\n",
      "15/15 [==============================] - 6s 379ms/step - loss: 0.0020 - val_loss: 6.5117e-04\n",
      "Epoch 21/100\n",
      "15/15 [==============================] - 5s 342ms/step - loss: 0.0019 - val_loss: 1.0340e-04\n",
      "Epoch 22/100\n",
      "15/15 [==============================] - 5s 339ms/step - loss: 0.0018 - val_loss: 3.0829e-04\n",
      "Epoch 23/100\n",
      "15/15 [==============================] - 5s 354ms/step - loss: 0.0017 - val_loss: 5.8892e-05\n",
      "Epoch 24/100\n",
      "15/15 [==============================] - 5s 354ms/step - loss: 0.0016 - val_loss: 7.2564e-05\n",
      "Epoch 25/100\n",
      "15/15 [==============================] - 5s 333ms/step - loss: 0.0019 - val_loss: 9.8054e-05\n",
      "Epoch 26/100\n",
      "15/15 [==============================] - 5s 343ms/step - loss: 0.0015 - val_loss: 1.0871e-04\n",
      "Epoch 27/100\n",
      "15/15 [==============================] - 5s 312ms/step - loss: 0.0014 - val_loss: 6.7234e-05\n",
      "Epoch 28/100\n",
      "15/15 [==============================] - 5s 328ms/step - loss: 0.0014 - val_loss: 1.0887e-04\n",
      "Epoch 29/100\n",
      "15/15 [==============================] - 5s 358ms/step - loss: 0.0016 - val_loss: 2.8962e-04\n",
      "Epoch 30/100\n",
      "15/15 [==============================] - 6s 381ms/step - loss: 0.0015 - val_loss: 7.7755e-05\n",
      "Epoch 31/100\n",
      "15/15 [==============================] - 5s 344ms/step - loss: 0.0014 - val_loss: 2.3066e-04\n",
      "Epoch 32/100\n",
      "15/15 [==============================] - 6s 372ms/step - loss: 0.0014 - val_loss: 9.5023e-05\n",
      "Epoch 33/100\n",
      "15/15 [==============================] - 6s 375ms/step - loss: 0.0017 - val_loss: 2.0196e-04\n",
      "Epoch 34/100\n",
      "15/15 [==============================] - 6s 374ms/step - loss: 0.0019 - val_loss: 5.4372e-04\n",
      "Epoch 35/100\n",
      "15/15 [==============================] - 5s 348ms/step - loss: 0.0014 - val_loss: 6.1304e-05\n",
      "Epoch 36/100\n",
      "15/15 [==============================] - 5s 347ms/step - loss: 0.0013 - val_loss: 6.0008e-05\n",
      "Epoch 37/100\n",
      "15/15 [==============================] - 6s 373ms/step - loss: 0.0013 - val_loss: 5.1491e-05\n",
      "Epoch 38/100\n",
      "15/15 [==============================] - 5s 359ms/step - loss: 0.0012 - val_loss: 1.4595e-04\n",
      "Epoch 39/100\n",
      "15/15 [==============================] - 5s 351ms/step - loss: 0.0014 - val_loss: 2.7615e-04\n",
      "Epoch 40/100\n",
      "15/15 [==============================] - 6s 373ms/step - loss: 0.0013 - val_loss: 9.8101e-05\n",
      "Epoch 41/100\n",
      "15/15 [==============================] - 5s 364ms/step - loss: 0.0013 - val_loss: 5.0678e-05\n",
      "Epoch 42/100\n",
      "15/15 [==============================] - 5s 366ms/step - loss: 0.0011 - val_loss: 7.4919e-05\n",
      "Epoch 43/100\n",
      "15/15 [==============================] - 5s 361ms/step - loss: 0.0012 - val_loss: 1.3797e-04\n",
      "Epoch 44/100\n",
      "15/15 [==============================] - 5s 354ms/step - loss: 0.0013 - val_loss: 5.8769e-05\n",
      "Epoch 45/100\n",
      "15/15 [==============================] - 5s 367ms/step - loss: 0.0012 - val_loss: 5.2733e-05\n",
      "Epoch 46/100\n",
      "15/15 [==============================] - 5s 316ms/step - loss: 0.0013 - val_loss: 1.3302e-04\n",
      "Epoch 47/100\n",
      "15/15 [==============================] - 5s 347ms/step - loss: 0.0013 - val_loss: 7.5715e-05\n",
      "Epoch 48/100\n",
      "15/15 [==============================] - 5s 362ms/step - loss: 0.0012 - val_loss: 1.8376e-04\n",
      "Epoch 49/100\n",
      "15/15 [==============================] - 6s 375ms/step - loss: 0.0013 - val_loss: 5.5839e-05\n",
      "Epoch 50/100\n",
      "15/15 [==============================] - 5s 367ms/step - loss: 0.0014 - val_loss: 1.0333e-04\n",
      "Epoch 51/100\n",
      "15/15 [==============================] - 5s 366ms/step - loss: 0.0013 - val_loss: 2.0101e-04\n",
      "Epoch 52/100\n",
      "15/15 [==============================] - 5s 364ms/step - loss: 0.0013 - val_loss: 2.5734e-04\n",
      "Epoch 53/100\n",
      "15/15 [==============================] - 5s 362ms/step - loss: 0.0013 - val_loss: 9.5675e-05\n",
      "Epoch 54/100\n",
      "15/15 [==============================] - 5s 367ms/step - loss: 0.0012 - val_loss: 1.7678e-04\n",
      "Epoch 55/100\n",
      "15/15 [==============================] - 5s 359ms/step - loss: 0.0011 - val_loss: 4.7189e-05\n",
      "Epoch 56/100\n",
      "15/15 [==============================] - 5s 365ms/step - loss: 0.0011 - val_loss: 4.6436e-05\n",
      "Epoch 57/100\n",
      "15/15 [==============================] - 5s 314ms/step - loss: 0.0011 - val_loss: 6.8906e-05\n",
      "Epoch 58/100\n",
      "15/15 [==============================] - 5s 307ms/step - loss: 0.0013 - val_loss: 4.5302e-05\n",
      "Epoch 59/100\n",
      "15/15 [==============================] - 5s 314ms/step - loss: 0.0014 - val_loss: 3.4805e-04\n",
      "Epoch 60/100\n",
      "15/15 [==============================] - 5s 307ms/step - loss: 0.0012 - val_loss: 1.1088e-04\n",
      "Epoch 61/100\n",
      "15/15 [==============================] - 5s 322ms/step - loss: 0.0011 - val_loss: 5.7831e-05\n",
      "Epoch 62/100\n",
      "15/15 [==============================] - 5s 321ms/step - loss: 0.0010 - val_loss: 1.2137e-04\n",
      "Epoch 63/100\n",
      "15/15 [==============================] - 5s 309ms/step - loss: 0.0011 - val_loss: 1.0779e-04\n",
      "Epoch 64/100\n",
      "15/15 [==============================] - 5s 331ms/step - loss: 0.0011 - val_loss: 5.7244e-05\n",
      "Epoch 65/100\n",
      "15/15 [==============================] - 5s 307ms/step - loss: 0.0012 - val_loss: 2.0681e-04\n",
      "Epoch 66/100\n",
      "15/15 [==============================] - 5s 302ms/step - loss: 0.0012 - val_loss: 5.2823e-05\n",
      "Epoch 67/100\n",
      "15/15 [==============================] - 5s 307ms/step - loss: 9.8775e-04 - val_loss: 4.1638e-05\n",
      "Epoch 68/100\n",
      "15/15 [==============================] - 5s 320ms/step - loss: 0.0011 - val_loss: 1.5135e-04\n",
      "Epoch 69/100\n",
      "15/15 [==============================] - 5s 330ms/step - loss: 0.0010 - val_loss: 1.0143e-04\n",
      "Epoch 70/100\n",
      "15/15 [==============================] - 5s 335ms/step - loss: 0.0012 - val_loss: 5.4809e-05\n",
      "Epoch 71/100\n",
      "15/15 [==============================] - 5s 363ms/step - loss: 0.0016 - val_loss: 7.0955e-04\n",
      "Epoch 72/100\n",
      "15/15 [==============================] - 5s 364ms/step - loss: 0.0011 - val_loss: 4.2043e-05\n",
      "Epoch 73/100\n",
      "15/15 [==============================] - 5s 320ms/step - loss: 9.3399e-04 - val_loss: 9.3289e-05\n",
      "Epoch 74/100\n",
      "15/15 [==============================] - 5s 327ms/step - loss: 0.0011 - val_loss: 4.4000e-05\n",
      "Epoch 75/100\n",
      "15/15 [==============================] - 5s 350ms/step - loss: 0.0011 - val_loss: 3.9300e-05\n",
      "Epoch 76/100\n",
      "15/15 [==============================] - 6s 371ms/step - loss: 0.0013 - val_loss: 8.8545e-05\n",
      "Epoch 77/100\n",
      "15/15 [==============================] - 6s 374ms/step - loss: 0.0011 - val_loss: 1.9995e-04\n",
      "Epoch 78/100\n"
     ]
    },
    {
     "name": "stdout",
     "output_type": "stream",
     "text": [
      "15/15 [==============================] - 6s 377ms/step - loss: 0.0010 - val_loss: 1.1683e-04\n",
      "Epoch 79/100\n",
      "15/15 [==============================] - 5s 362ms/step - loss: 0.0012 - val_loss: 7.6109e-05\n",
      "Epoch 80/100\n",
      "15/15 [==============================] - 5s 328ms/step - loss: 0.0011 - val_loss: 6.2199e-05\n",
      "Epoch 81/100\n",
      "15/15 [==============================] - 5s 302ms/step - loss: 8.9415e-04 - val_loss: 4.3581e-05\n",
      "Epoch 82/100\n",
      "15/15 [==============================] - 5s 324ms/step - loss: 9.4777e-04 - val_loss: 2.0915e-04\n",
      "Epoch 83/100\n",
      "15/15 [==============================] - 5s 324ms/step - loss: 0.0013 - val_loss: 2.2553e-04\n",
      "Epoch 84/100\n",
      "15/15 [==============================] - 5s 324ms/step - loss: 9.3487e-04 - val_loss: 4.4409e-05\n",
      "Epoch 85/100\n",
      "15/15 [==============================] - 5s 331ms/step - loss: 9.9855e-04 - val_loss: 6.0074e-05\n",
      "Epoch 86/100\n",
      "15/15 [==============================] - 5s 339ms/step - loss: 9.5283e-04 - val_loss: 1.4433e-04\n",
      "Epoch 87/100\n",
      "15/15 [==============================] - 5s 326ms/step - loss: 8.8244e-04 - val_loss: 1.1627e-04\n",
      "Epoch 88/100\n",
      "15/15 [==============================] - 5s 365ms/step - loss: 0.0010 - val_loss: 6.4337e-05\n",
      "Epoch 89/100\n",
      "15/15 [==============================] - 5s 367ms/step - loss: 0.0012 - val_loss: 3.5317e-05\n",
      "Epoch 90/100\n",
      "15/15 [==============================] - 6s 372ms/step - loss: 0.0011 - val_loss: 4.0524e-05\n",
      "Epoch 91/100\n",
      "15/15 [==============================] - 6s 371ms/step - loss: 0.0011 - val_loss: 6.7272e-05\n",
      "Epoch 92/100\n",
      "15/15 [==============================] - 6s 369ms/step - loss: 0.0011 - val_loss: 4.4641e-05\n",
      "Epoch 93/100\n",
      "15/15 [==============================] - 6s 374ms/step - loss: 0.0011 - val_loss: 3.4526e-04\n",
      "Epoch 94/100\n",
      "15/15 [==============================] - 6s 369ms/step - loss: 8.9688e-04 - val_loss: 6.9766e-05\n",
      "Epoch 95/100\n",
      "15/15 [==============================] - 6s 369ms/step - loss: 8.0281e-04 - val_loss: 8.2016e-05\n",
      "Epoch 96/100\n",
      "15/15 [==============================] - 6s 368ms/step - loss: 0.0011 - val_loss: 9.7465e-05\n",
      "Epoch 97/100\n",
      "15/15 [==============================] - 5s 317ms/step - loss: 0.0010 - val_loss: 5.3545e-05\n",
      "Epoch 98/100\n",
      "15/15 [==============================] - 5s 359ms/step - loss: 0.0010 - val_loss: 2.0289e-04\n",
      "Epoch 99/100\n",
      "15/15 [==============================] - 5s 356ms/step - loss: 9.5642e-04 - val_loss: 7.1779e-05\n",
      "Epoch 100/100\n",
      "15/15 [==============================] - 5s 343ms/step - loss: 0.0012 - val_loss: 4.6993e-05\n"
     ]
    },
    {
     "data": {
      "text/plain": [
       "<keras.callbacks.History at 0x1e890d93be0>"
      ]
     },
     "execution_count": 27,
     "metadata": {},
     "output_type": "execute_result"
    }
   ],
   "source": [
    "model.fit(X_train,y_train,validation_data=(X_test,ytest),epochs=100,batch_size=64,verbose=1)"
   ]
  },
  {
   "cell_type": "code",
   "execution_count": 28,
   "id": "98a73408",
   "metadata": {},
   "outputs": [],
   "source": [
    "import tensorflow as tf"
   ]
  },
  {
   "cell_type": "code",
   "execution_count": 29,
   "id": "d5a6a44f",
   "metadata": {
    "scrolled": true
   },
   "outputs": [
    {
     "name": "stdout",
     "output_type": "stream",
     "text": [
      "29/29 [==============================] - 5s 74ms/step\n",
      "5/5 [==============================] - 0s 71ms/step\n"
     ]
    }
   ],
   "source": [
    "### Lets Do the prediction and check performance metrics\n",
    "train_predict=model.predict(X_train)\n",
    "test_predict=model.predict(X_test)"
   ]
  },
  {
   "cell_type": "code",
   "execution_count": 30,
   "id": "deb1ec28",
   "metadata": {},
   "outputs": [],
   "source": [
    "##Transformback to original form\n",
    "train_predict=scaler.inverse_transform(train_predict)\n",
    "test_predict=scaler.inverse_transform(test_predict)"
   ]
  },
  {
   "cell_type": "code",
   "execution_count": 31,
   "id": "855834c5",
   "metadata": {},
   "outputs": [
    {
     "name": "stdout",
     "output_type": "stream",
     "text": [
      "Train RMSE: 705.27, Train Accuracy: 66.90%\n",
      "Test RMSE: 171.37, Test Accuracy: 91.96%\n"
     ]
    }
   ],
   "source": [
    "# calculate RMSE performance metrics\n",
    "import math\n",
    "from sklearn.metrics import mean_squared_error\n",
    "\n",
    "train_rmse = math.sqrt(mean_squared_error(y_train, train_predict))\n",
    "test_rmse = math.sqrt(mean_squared_error(ytest, test_predict))\n",
    "\n",
    "# calculate accuracy percentage\n",
    "max_val = scaler.inverse_transform([[1]])[0,0]\n",
    "min_val = scaler.inverse_transform([[0]])[0,0]\n",
    "train_accuracy = 100 - train_rmse * 100 / (max_val - min_val)\n",
    "test_accuracy = 100 - test_rmse * 100 / (max_val - min_val)\n",
    "\n",
    "# print results\n",
    "print(f\"Train RMSE: {train_rmse:.2f}, Train Accuracy: {train_accuracy:.2f}%\")\n",
    "print(f\"Test RMSE: {test_rmse:.2f}, Test Accuracy: {test_accuracy:.2f}%\")\n"
   ]
  },
  {
   "cell_type": "code",
   "execution_count": 32,
   "id": "787a8299",
   "metadata": {},
   "outputs": [
    {
     "data": {
      "image/png": "[encoded data removed]",
      "text/plain": [
       "<Figure size 640x480 with 1 Axes>"
      ]
     },
     "metadata": {},
     "output_type": "display_data"
    }
   ],
   "source": [
    "### Plotting \n",
    "# shift train predictions for plotting\n",
    "look_back=100\n",
    "trainPredictPlot = numpy.empty_like(df1)\n",
    "trainPredictPlot[:, :] = np.nan\n",
    "trainPredictPlot[look_back:len(train_predict)+look_back, :] = train_predict\n",
    "# shift test predictions for plotting\n",
    "testPredictPlot = numpy.empty_like(df1)\n",
    "testPredictPlot[:, :] = numpy.nan\n",
    "testPredictPlot[len(train_predict)+(look_back*2)+1:len(df1)-1, :] = test_predict\n",
    "# plot baseline and predictions\n",
    "plt.plot(scaler.inverse_transform(df1))\n",
    "plt.plot(trainPredictPlot)\n",
    "plt.plot(testPredictPlot)\n",
    "plt.show()"
   ]
  },
  {
   "cell_type": "code",
   "execution_count": 33,
   "id": "c4cd4ef5",
   "metadata": {},
   "outputs": [
    {
     "data": {
      "text/plain": [
       "252"
      ]
     },
     "execution_count": 33,
     "metadata": {},
     "output_type": "execute_result"
    }
   ],
   "source": [
    "\n",
    "len(test_data)"
   ]
  },
  {
   "cell_type": "code",
   "execution_count": 34,
   "id": "ee5a3769",
   "metadata": {},
   "outputs": [
    {
     "data": {
      "text/plain": [
       "(1, 100)"
      ]
     },
     "execution_count": 34,
     "metadata": {},
     "output_type": "execute_result"
    }
   ],
   "source": [
    "x_input=test_data[152:].reshape(1,-1)\n",
    "x_input.shape"
   ]
  },
  {
   "cell_type": "code",
   "execution_count": 35,
   "id": "e9014114",
   "metadata": {},
   "outputs": [],
   "source": [
    "temp_input=list(x_input)\n",
    "temp_input=temp_input[0].tolist()"
   ]
  },
  {
   "cell_type": "code",
   "execution_count": 36,
   "id": "c936a9c9",
   "metadata": {},
   "outputs": [
    {
     "data": {
      "text/plain": [
       "[0.00547720179288011,\n",
       " 0.005045408678102929,\n",
       " 0.007096425973294539,\n",
       " 0.007256001689625237,\n",
       " 0.006711566892732272,\n",
       " 0.01097787060286768,\n",
       " 0.009705958275643585,\n",
       " 0.008950320324783524,\n",
       " 0.01188369746321545,\n",
       " 0.01673198319761575,\n",
       " 0.01679769084551662,\n",
       " 0.017051134630277145,\n",
       " 0.02448548564991905,\n",
       " 0.03275995588200785,\n",
       " 0.027484570436251854,\n",
       " 0.030563443080750013,\n",
       " 0.034407340482951215,\n",
       " 0.03762701523009411,\n",
       " 0.03842958721516908,\n",
       " 0.04067303405064182,\n",
       " 0.0416351817520475,\n",
       " 0.04373782648487551,\n",
       " 0.04656794874803463,\n",
       " 0.04167272897941943,\n",
       " 0.04061671320958392,\n",
       " 0.047473775608382424,\n",
       " 0.049815783915706485,\n",
       " 0.04408983174148734,\n",
       " 0.047032595686762255,\n",
       " 0.04189801234365101,\n",
       " 0.043536010137751394,\n",
       " 0.04410391195175181,\n",
       " 0.041668035575997936,\n",
       " 0.04671344425410086,\n",
       " 0.04581231079717457,\n",
       " 0.04443245019125619,\n",
       " 0.038861380329946266,\n",
       " 0.04209513528735362,\n",
       " 0.040227160725600175,\n",
       " 0.0373641846384906,\n",
       " 0.034684251284819195,\n",
       " 0.030422640978105264,\n",
       " 0.03066669795602281,\n",
       " 0.031154811911857885,\n",
       " 0.03527562011592707,\n",
       " 0.033956773754488065,\n",
       " 0.03568394621359679,\n",
       " 0.03380658484500035,\n",
       " 0.035270926712505576,\n",
       " 0.041996573815502314,\n",
       " 0.03897871541548355,\n",
       " 0.03948090958158308,\n",
       " 0.03863140356229319,\n",
       " 0.03928848004130195,\n",
       " 0.038058808344871284,\n",
       " 0.04026001454955061,\n",
       " 0.040917091028559366,\n",
       " 0.046633656395935516,\n",
       " 0.040677727454063325,\n",
       " 0.039649872104756775,\n",
       " 0.03633632928918405,\n",
       " 0.036120432731795465,\n",
       " 0.03586229554361345,\n",
       " 0.036932391523713415,\n",
       " 0.03399901438528148,\n",
       " 0.03651467861920071,\n",
       " 0.03609227231126652,\n",
       " 0.0370497266092507,\n",
       " 0.035768427475183634,\n",
       " 0.03402248140238895,\n",
       " 0.025762091380564622,\n",
       " 0.026743012695656265,\n",
       " 0.025555581630019017,\n",
       " 0.02467322178677868,\n",
       " 0.021425386619106854,\n",
       " 0.02444793842254711,\n",
       " 0.02638162063220144,\n",
       " 0.025217656583671658,\n",
       " 0.024504259263605013,\n",
       " 0.02464506136624975,\n",
       " 0.024921972168117715,\n",
       " 0.029080327599558822,\n",
       " 0.02989228639147677,\n",
       " 0.02865322788820314,\n",
       " 0.028366930279492178,\n",
       " 0.03002839509070003,\n",
       " 0.02810409968788867,\n",
       " 0.027339074930185628,\n",
       " 0.027418862788350984,\n",
       " 0.030863820899725447,\n",
       " 0.03228592213643723,\n",
       " 0.03381127824842184,\n",
       " 0.03790861943538357,\n",
       " 0.036453664374721334,\n",
       " 0.03510665759275339,\n",
       " 0.035843521929927485,\n",
       " 0.03992678290662474,\n",
       " 0.04367681224039613,\n",
       " 0.044976884988149154,\n",
       " 0.04666181681646446]"
      ]
     },
     "execution_count": 36,
     "metadata": {},
     "output_type": "execute_result"
    }
   ],
   "source": [
    "temp_input"
   ]
  },
  {
   "cell_type": "code",
   "execution_count": 37,
   "id": "42c956bb",
   "metadata": {},
   "outputs": [
    {
     "name": "stdout",
     "output_type": "stream",
     "text": [
      "[0.03675478]\n",
      "101\n",
      "1 day input [0.00504541 0.00709643 0.007256   0.00671157 0.01097787 0.00970596\n",
      " 0.00895032 0.0118837  0.01673198 0.01679769 0.01705113 0.02448549\n",
      " 0.03275996 0.02748457 0.03056344 0.03440734 0.03762702 0.03842959\n",
      " 0.04067303 0.04163518 0.04373783 0.04656795 0.04167273 0.04061671\n",
      " 0.04747378 0.04981578 0.04408983 0.0470326  0.04189801 0.04353601\n",
      " 0.04410391 0.04166804 0.04671344 0.04581231 0.04443245 0.03886138\n",
      " 0.04209514 0.04022716 0.03736418 0.03468425 0.03042264 0.0306667\n",
      " 0.03115481 0.03527562 0.03395677 0.03568395 0.03380658 0.03527093\n",
      " 0.04199657 0.03897872 0.03948091 0.0386314  0.03928848 0.03805881\n",
      " 0.04026001 0.04091709 0.04663366 0.04067773 0.03964987 0.03633633\n",
      " 0.03612043 0.0358623  0.03693239 0.03399901 0.03651468 0.03609227\n",
      " 0.03704973 0.03576843 0.03402248 0.02576209 0.02674301 0.02555558\n",
      " 0.02467322 0.02142539 0.02444794 0.02638162 0.02521766 0.02450426\n",
      " 0.02464506 0.02492197 0.02908033 0.02989229 0.02865323 0.02836693\n",
      " 0.0300284  0.0281041  0.02733907 0.02741886 0.03086382 0.03228592\n",
      " 0.03381128 0.03790862 0.03645366 0.03510666 0.03584352 0.03992678\n",
      " 0.04367681 0.04497688 0.04666182 0.03675478]\n",
      "1 day output [[0.03771774]]\n",
      "2 day input [0.00709643 0.007256   0.00671157 0.01097787 0.00970596 0.00895032\n",
      " 0.0118837  0.01673198 0.01679769 0.01705113 0.02448549 0.03275996\n",
      " 0.02748457 0.03056344 0.03440734 0.03762702 0.03842959 0.04067303\n",
      " 0.04163518 0.04373783 0.04656795 0.04167273 0.04061671 0.04747378\n",
      " 0.04981578 0.04408983 0.0470326  0.04189801 0.04353601 0.04410391\n",
      " 0.04166804 0.04671344 0.04581231 0.04443245 0.03886138 0.04209514\n",
      " 0.04022716 0.03736418 0.03468425 0.03042264 0.0306667  0.03115481\n",
      " 0.03527562 0.03395677 0.03568395 0.03380658 0.03527093 0.04199657\n",
      " 0.03897872 0.03948091 0.0386314  0.03928848 0.03805881 0.04026001\n",
      " 0.04091709 0.04663366 0.04067773 0.03964987 0.03633633 0.03612043\n",
      " 0.0358623  0.03693239 0.03399901 0.03651468 0.03609227 0.03704973\n",
      " 0.03576843 0.03402248 0.02576209 0.02674301 0.02555558 0.02467322\n",
      " 0.02142539 0.02444794 0.02638162 0.02521766 0.02450426 0.02464506\n",
      " 0.02492197 0.02908033 0.02989229 0.02865323 0.02836693 0.0300284\n",
      " 0.0281041  0.02733907 0.02741886 0.03086382 0.03228592 0.03381128\n",
      " 0.03790862 0.03645366 0.03510666 0.03584352 0.03992678 0.04367681\n",
      " 0.04497688 0.04666182 0.03675478 0.03771774]\n",
      "2 day output [[0.03785584]]\n",
      "3 day input [0.007256   0.00671157 0.01097787 0.00970596 0.00895032 0.0118837\n",
      " 0.01673198 0.01679769 0.01705113 0.02448549 0.03275996 0.02748457\n",
      " 0.03056344 0.03440734 0.03762702 0.03842959 0.04067303 0.04163518\n",
      " 0.04373783 0.04656795 0.04167273 0.04061671 0.04747378 0.04981578\n",
      " 0.04408983 0.0470326  0.04189801 0.04353601 0.04410391 0.04166804\n",
      " 0.04671344 0.04581231 0.04443245 0.03886138 0.04209514 0.04022716\n",
      " 0.03736418 0.03468425 0.03042264 0.0306667  0.03115481 0.03527562\n",
      " 0.03395677 0.03568395 0.03380658 0.03527093 0.04199657 0.03897872\n",
      " 0.03948091 0.0386314  0.03928848 0.03805881 0.04026001 0.04091709\n",
      " 0.04663366 0.04067773 0.03964987 0.03633633 0.03612043 0.0358623\n",
      " 0.03693239 0.03399901 0.03651468 0.03609227 0.03704973 0.03576843\n",
      " 0.03402248 0.02576209 0.02674301 0.02555558 0.02467322 0.02142539\n",
      " 0.02444794 0.02638162 0.02521766 0.02450426 0.02464506 0.02492197\n",
      " 0.02908033 0.02989229 0.02865323 0.02836693 0.0300284  0.0281041\n",
      " 0.02733907 0.02741886 0.03086382 0.03228592 0.03381128 0.03790862\n",
      " 0.03645366 0.03510666 0.03584352 0.03992678 0.04367681 0.04497688\n",
      " 0.04666182 0.03675478 0.03771774 0.03785584]\n",
      "3 day output [[0.03746389]]\n",
      "4 day input [0.00671157 0.01097787 0.00970596 0.00895032 0.0118837  0.01673198\n",
      " 0.01679769 0.01705113 0.02448549 0.03275996 0.02748457 0.03056344\n",
      " 0.03440734 0.03762702 0.03842959 0.04067303 0.04163518 0.04373783\n",
      " 0.04656795 0.04167273 0.04061671 0.04747378 0.04981578 0.04408983\n",
      " 0.0470326  0.04189801 0.04353601 0.04410391 0.04166804 0.04671344\n",
      " 0.04581231 0.04443245 0.03886138 0.04209514 0.04022716 0.03736418\n",
      " 0.03468425 0.03042264 0.0306667  0.03115481 0.03527562 0.03395677\n",
      " 0.03568395 0.03380658 0.03527093 0.04199657 0.03897872 0.03948091\n",
      " 0.0386314  0.03928848 0.03805881 0.04026001 0.04091709 0.04663366\n",
      " 0.04067773 0.03964987 0.03633633 0.03612043 0.0358623  0.03693239\n",
      " 0.03399901 0.03651468 0.03609227 0.03704973 0.03576843 0.03402248\n",
      " 0.02576209 0.02674301 0.02555558 0.02467322 0.02142539 0.02444794\n",
      " 0.02638162 0.02521766 0.02450426 0.02464506 0.02492197 0.02908033\n",
      " 0.02989229 0.02865323 0.02836693 0.0300284  0.0281041  0.02733907\n",
      " 0.02741886 0.03086382 0.03228592 0.03381128 0.03790862 0.03645366\n",
      " 0.03510666 0.03584352 0.03992678 0.04367681 0.04497688 0.04666182\n",
      " 0.03675478 0.03771774 0.03785584 0.03746389]\n",
      "4 day output [[0.03679902]]\n",
      "5 day input [0.01097787 0.00970596 0.00895032 0.0118837  0.01673198 0.01679769\n",
      " 0.01705113 0.02448549 0.03275996 0.02748457 0.03056344 0.03440734\n",
      " 0.03762702 0.03842959 0.04067303 0.04163518 0.04373783 0.04656795\n",
      " 0.04167273 0.04061671 0.04747378 0.04981578 0.04408983 0.0470326\n",
      " 0.04189801 0.04353601 0.04410391 0.04166804 0.04671344 0.04581231\n",
      " 0.04443245 0.03886138 0.04209514 0.04022716 0.03736418 0.03468425\n",
      " 0.03042264 0.0306667  0.03115481 0.03527562 0.03395677 0.03568395\n",
      " 0.03380658 0.03527093 0.04199657 0.03897872 0.03948091 0.0386314\n",
      " 0.03928848 0.03805881 0.04026001 0.04091709 0.04663366 0.04067773\n",
      " 0.03964987 0.03633633 0.03612043 0.0358623  0.03693239 0.03399901\n",
      " 0.03651468 0.03609227 0.03704973 0.03576843 0.03402248 0.02576209\n",
      " 0.02674301 0.02555558 0.02467322 0.02142539 0.02444794 0.02638162\n",
      " 0.02521766 0.02450426 0.02464506 0.02492197 0.02908033 0.02989229\n",
      " 0.02865323 0.02836693 0.0300284  0.0281041  0.02733907 0.02741886\n",
      " 0.03086382 0.03228592 0.03381128 0.03790862 0.03645366 0.03510666\n",
      " 0.03584352 0.03992678 0.04367681 0.04497688 0.04666182 0.03675478\n",
      " 0.03771774 0.03785584 0.03746389 0.03679902]\n",
      "5 day output [[0.03601824]]\n",
      "6 day input [0.00970596 0.00895032 0.0118837  0.01673198 0.01679769 0.01705113\n",
      " 0.02448549 0.03275996 0.02748457 0.03056344 0.03440734 0.03762702\n",
      " 0.03842959 0.04067303 0.04163518 0.04373783 0.04656795 0.04167273\n",
      " 0.04061671 0.04747378 0.04981578 0.04408983 0.0470326  0.04189801\n",
      " 0.04353601 0.04410391 0.04166804 0.04671344 0.04581231 0.04443245\n",
      " 0.03886138 0.04209514 0.04022716 0.03736418 0.03468425 0.03042264\n",
      " 0.0306667  0.03115481 0.03527562 0.03395677 0.03568395 0.03380658\n",
      " 0.03527093 0.04199657 0.03897872 0.03948091 0.0386314  0.03928848\n",
      " 0.03805881 0.04026001 0.04091709 0.04663366 0.04067773 0.03964987\n",
      " 0.03633633 0.03612043 0.0358623  0.03693239 0.03399901 0.03651468\n",
      " 0.03609227 0.03704973 0.03576843 0.03402248 0.02576209 0.02674301\n",
      " 0.02555558 0.02467322 0.02142539 0.02444794 0.02638162 0.02521766\n",
      " 0.02450426 0.02464506 0.02492197 0.02908033 0.02989229 0.02865323\n",
      " 0.02836693 0.0300284  0.0281041  0.02733907 0.02741886 0.03086382\n",
      " 0.03228592 0.03381128 0.03790862 0.03645366 0.03510666 0.03584352\n",
      " 0.03992678 0.04367681 0.04497688 0.04666182 0.03675478 0.03771774\n",
      " 0.03785584 0.03746389 0.03679902 0.03601824]\n",
      "6 day output [[0.03519835]]\n",
      "7 day input [0.00895032 0.0118837  0.01673198 0.01679769 0.01705113 0.02448549\n",
      " 0.03275996 0.02748457 0.03056344 0.03440734 0.03762702 0.03842959\n",
      " 0.04067303 0.04163518 0.04373783 0.04656795 0.04167273 0.04061671\n",
      " 0.04747378 0.04981578 0.04408983 0.0470326  0.04189801 0.04353601\n",
      " 0.04410391 0.04166804 0.04671344 0.04581231 0.04443245 0.03886138\n",
      " 0.04209514 0.04022716 0.03736418 0.03468425 0.03042264 0.0306667\n",
      " 0.03115481 0.03527562 0.03395677 0.03568395 0.03380658 0.03527093\n",
      " 0.04199657 0.03897872 0.03948091 0.0386314  0.03928848 0.03805881\n",
      " 0.04026001 0.04091709 0.04663366 0.04067773 0.03964987 0.03633633\n",
      " 0.03612043 0.0358623  0.03693239 0.03399901 0.03651468 0.03609227\n",
      " 0.03704973 0.03576843 0.03402248 0.02576209 0.02674301 0.02555558\n",
      " 0.02467322 0.02142539 0.02444794 0.02638162 0.02521766 0.02450426\n",
      " 0.02464506 0.02492197 0.02908033 0.02989229 0.02865323 0.02836693\n",
      " 0.0300284  0.0281041  0.02733907 0.02741886 0.03086382 0.03228592\n",
      " 0.03381128 0.03790862 0.03645366 0.03510666 0.03584352 0.03992678\n",
      " 0.04367681 0.04497688 0.04666182 0.03675478 0.03771774 0.03785584\n",
      " 0.03746389 0.03679902 0.03601824 0.03519835]\n",
      "7 day output [[0.03436904]]\n",
      "8 day input [0.0118837  0.01673198 0.01679769 0.01705113 0.02448549 0.03275996\n",
      " 0.02748457 0.03056344 0.03440734 0.03762702 0.03842959 0.04067303\n",
      " 0.04163518 0.04373783 0.04656795 0.04167273 0.04061671 0.04747378\n",
      " 0.04981578 0.04408983 0.0470326  0.04189801 0.04353601 0.04410391\n",
      " 0.04166804 0.04671344 0.04581231 0.04443245 0.03886138 0.04209514\n",
      " 0.04022716 0.03736418 0.03468425 0.03042264 0.0306667  0.03115481\n",
      " 0.03527562 0.03395677 0.03568395 0.03380658 0.03527093 0.04199657\n",
      " 0.03897872 0.03948091 0.0386314  0.03928848 0.03805881 0.04026001\n",
      " 0.04091709 0.04663366 0.04067773 0.03964987 0.03633633 0.03612043\n",
      " 0.0358623  0.03693239 0.03399901 0.03651468 0.03609227 0.03704973\n",
      " 0.03576843 0.03402248 0.02576209 0.02674301 0.02555558 0.02467322\n",
      " 0.02142539 0.02444794 0.02638162 0.02521766 0.02450426 0.02464506\n",
      " 0.02492197 0.02908033 0.02989229 0.02865323 0.02836693 0.0300284\n",
      " 0.0281041  0.02733907 0.02741886 0.03086382 0.03228592 0.03381128\n",
      " 0.03790862 0.03645366 0.03510666 0.03584352 0.03992678 0.04367681\n",
      " 0.04497688 0.04666182 0.03675478 0.03771774 0.03785584 0.03746389\n",
      " 0.03679902 0.03601824 0.03519835 0.03436904]\n"
     ]
    },
    {
     "name": "stdout",
     "output_type": "stream",
     "text": [
      "8 day output [[0.03353773]]\n",
      "9 day input [0.01673198 0.01679769 0.01705113 0.02448549 0.03275996 0.02748457\n",
      " 0.03056344 0.03440734 0.03762702 0.03842959 0.04067303 0.04163518\n",
      " 0.04373783 0.04656795 0.04167273 0.04061671 0.04747378 0.04981578\n",
      " 0.04408983 0.0470326  0.04189801 0.04353601 0.04410391 0.04166804\n",
      " 0.04671344 0.04581231 0.04443245 0.03886138 0.04209514 0.04022716\n",
      " 0.03736418 0.03468425 0.03042264 0.0306667  0.03115481 0.03527562\n",
      " 0.03395677 0.03568395 0.03380658 0.03527093 0.04199657 0.03897872\n",
      " 0.03948091 0.0386314  0.03928848 0.03805881 0.04026001 0.04091709\n",
      " 0.04663366 0.04067773 0.03964987 0.03633633 0.03612043 0.0358623\n",
      " 0.03693239 0.03399901 0.03651468 0.03609227 0.03704973 0.03576843\n",
      " 0.03402248 0.02576209 0.02674301 0.02555558 0.02467322 0.02142539\n",
      " 0.02444794 0.02638162 0.02521766 0.02450426 0.02464506 0.02492197\n",
      " 0.02908033 0.02989229 0.02865323 0.02836693 0.0300284  0.0281041\n",
      " 0.02733907 0.02741886 0.03086382 0.03228592 0.03381128 0.03790862\n",
      " 0.03645366 0.03510666 0.03584352 0.03992678 0.04367681 0.04497688\n",
      " 0.04666182 0.03675478 0.03771774 0.03785584 0.03746389 0.03679902\n",
      " 0.03601824 0.03519835 0.03436904 0.03353773]\n",
      "9 day output [[0.03270369]]\n",
      "10 day input [0.01679769 0.01705113 0.02448549 0.03275996 0.02748457 0.03056344\n",
      " 0.03440734 0.03762702 0.03842959 0.04067303 0.04163518 0.04373783\n",
      " 0.04656795 0.04167273 0.04061671 0.04747378 0.04981578 0.04408983\n",
      " 0.0470326  0.04189801 0.04353601 0.04410391 0.04166804 0.04671344\n",
      " 0.04581231 0.04443245 0.03886138 0.04209514 0.04022716 0.03736418\n",
      " 0.03468425 0.03042264 0.0306667  0.03115481 0.03527562 0.03395677\n",
      " 0.03568395 0.03380658 0.03527093 0.04199657 0.03897872 0.03948091\n",
      " 0.0386314  0.03928848 0.03805881 0.04026001 0.04091709 0.04663366\n",
      " 0.04067773 0.03964987 0.03633633 0.03612043 0.0358623  0.03693239\n",
      " 0.03399901 0.03651468 0.03609227 0.03704973 0.03576843 0.03402248\n",
      " 0.02576209 0.02674301 0.02555558 0.02467322 0.02142539 0.02444794\n",
      " 0.02638162 0.02521766 0.02450426 0.02464506 0.02492197 0.02908033\n",
      " 0.02989229 0.02865323 0.02836693 0.0300284  0.0281041  0.02733907\n",
      " 0.02741886 0.03086382 0.03228592 0.03381128 0.03790862 0.03645366\n",
      " 0.03510666 0.03584352 0.03992678 0.04367681 0.04497688 0.04666182\n",
      " 0.03675478 0.03771774 0.03785584 0.03746389 0.03679902 0.03601824\n",
      " 0.03519835 0.03436904 0.03353773 0.03270369]\n",
      "10 day output [[0.03186456]]\n",
      "11 day input [0.01705113 0.02448549 0.03275996 0.02748457 0.03056344 0.03440734\n",
      " 0.03762702 0.03842959 0.04067303 0.04163518 0.04373783 0.04656795\n",
      " 0.04167273 0.04061671 0.04747378 0.04981578 0.04408983 0.0470326\n",
      " 0.04189801 0.04353601 0.04410391 0.04166804 0.04671344 0.04581231\n",
      " 0.04443245 0.03886138 0.04209514 0.04022716 0.03736418 0.03468425\n",
      " 0.03042264 0.0306667  0.03115481 0.03527562 0.03395677 0.03568395\n",
      " 0.03380658 0.03527093 0.04199657 0.03897872 0.03948091 0.0386314\n",
      " 0.03928848 0.03805881 0.04026001 0.04091709 0.04663366 0.04067773\n",
      " 0.03964987 0.03633633 0.03612043 0.0358623  0.03693239 0.03399901\n",
      " 0.03651468 0.03609227 0.03704973 0.03576843 0.03402248 0.02576209\n",
      " 0.02674301 0.02555558 0.02467322 0.02142539 0.02444794 0.02638162\n",
      " 0.02521766 0.02450426 0.02464506 0.02492197 0.02908033 0.02989229\n",
      " 0.02865323 0.02836693 0.0300284  0.0281041  0.02733907 0.02741886\n",
      " 0.03086382 0.03228592 0.03381128 0.03790862 0.03645366 0.03510666\n",
      " 0.03584352 0.03992678 0.04367681 0.04497688 0.04666182 0.03675478\n",
      " 0.03771774 0.03785584 0.03746389 0.03679902 0.03601824 0.03519835\n",
      " 0.03436904 0.03353773 0.03270369 0.03186456]\n",
      "11 day output [[0.03101884]]\n",
      "12 day input [0.02448549 0.03275996 0.02748457 0.03056344 0.03440734 0.03762702\n",
      " 0.03842959 0.04067303 0.04163518 0.04373783 0.04656795 0.04167273\n",
      " 0.04061671 0.04747378 0.04981578 0.04408983 0.0470326  0.04189801\n",
      " 0.04353601 0.04410391 0.04166804 0.04671344 0.04581231 0.04443245\n",
      " 0.03886138 0.04209514 0.04022716 0.03736418 0.03468425 0.03042264\n",
      " 0.0306667  0.03115481 0.03527562 0.03395677 0.03568395 0.03380658\n",
      " 0.03527093 0.04199657 0.03897872 0.03948091 0.0386314  0.03928848\n",
      " 0.03805881 0.04026001 0.04091709 0.04663366 0.04067773 0.03964987\n",
      " 0.03633633 0.03612043 0.0358623  0.03693239 0.03399901 0.03651468\n",
      " 0.03609227 0.03704973 0.03576843 0.03402248 0.02576209 0.02674301\n",
      " 0.02555558 0.02467322 0.02142539 0.02444794 0.02638162 0.02521766\n",
      " 0.02450426 0.02464506 0.02492197 0.02908033 0.02989229 0.02865323\n",
      " 0.02836693 0.0300284  0.0281041  0.02733907 0.02741886 0.03086382\n",
      " 0.03228592 0.03381128 0.03790862 0.03645366 0.03510666 0.03584352\n",
      " 0.03992678 0.04367681 0.04497688 0.04666182 0.03675478 0.03771774\n",
      " 0.03785584 0.03746389 0.03679902 0.03601824 0.03519835 0.03436904\n",
      " 0.03353773 0.03270369 0.03186456 0.03101884]\n",
      "12 day output [[0.03016642]]\n",
      "13 day input [0.03275996 0.02748457 0.03056344 0.03440734 0.03762702 0.03842959\n",
      " 0.04067303 0.04163518 0.04373783 0.04656795 0.04167273 0.04061671\n",
      " 0.04747378 0.04981578 0.04408983 0.0470326  0.04189801 0.04353601\n",
      " 0.04410391 0.04166804 0.04671344 0.04581231 0.04443245 0.03886138\n",
      " 0.04209514 0.04022716 0.03736418 0.03468425 0.03042264 0.0306667\n",
      " 0.03115481 0.03527562 0.03395677 0.03568395 0.03380658 0.03527093\n",
      " 0.04199657 0.03897872 0.03948091 0.0386314  0.03928848 0.03805881\n",
      " 0.04026001 0.04091709 0.04663366 0.04067773 0.03964987 0.03633633\n",
      " 0.03612043 0.0358623  0.03693239 0.03399901 0.03651468 0.03609227\n",
      " 0.03704973 0.03576843 0.03402248 0.02576209 0.02674301 0.02555558\n",
      " 0.02467322 0.02142539 0.02444794 0.02638162 0.02521766 0.02450426\n",
      " 0.02464506 0.02492197 0.02908033 0.02989229 0.02865323 0.02836693\n",
      " 0.0300284  0.0281041  0.02733907 0.02741886 0.03086382 0.03228592\n",
      " 0.03381128 0.03790862 0.03645366 0.03510666 0.03584352 0.03992678\n",
      " 0.04367681 0.04497688 0.04666182 0.03675478 0.03771774 0.03785584\n",
      " 0.03746389 0.03679902 0.03601824 0.03519835 0.03436904 0.03353773\n",
      " 0.03270369 0.03186456 0.03101884 0.03016642]\n",
      "13 day output [[0.0293083]]\n",
      "14 day input [0.02748457 0.03056344 0.03440734 0.03762702 0.03842959 0.04067303\n",
      " 0.04163518 0.04373783 0.04656795 0.04167273 0.04061671 0.04747378\n",
      " 0.04981578 0.04408983 0.0470326  0.04189801 0.04353601 0.04410391\n",
      " 0.04166804 0.04671344 0.04581231 0.04443245 0.03886138 0.04209514\n",
      " 0.04022716 0.03736418 0.03468425 0.03042264 0.0306667  0.03115481\n",
      " 0.03527562 0.03395677 0.03568395 0.03380658 0.03527093 0.04199657\n",
      " 0.03897872 0.03948091 0.0386314  0.03928848 0.03805881 0.04026001\n",
      " 0.04091709 0.04663366 0.04067773 0.03964987 0.03633633 0.03612043\n",
      " 0.0358623  0.03693239 0.03399901 0.03651468 0.03609227 0.03704973\n",
      " 0.03576843 0.03402248 0.02576209 0.02674301 0.02555558 0.02467322\n",
      " 0.02142539 0.02444794 0.02638162 0.02521766 0.02450426 0.02464506\n",
      " 0.02492197 0.02908033 0.02989229 0.02865323 0.02836693 0.0300284\n",
      " 0.0281041  0.02733907 0.02741886 0.03086382 0.03228592 0.03381128\n",
      " 0.03790862 0.03645366 0.03510666 0.03584352 0.03992678 0.04367681\n",
      " 0.04497688 0.04666182 0.03675478 0.03771774 0.03785584 0.03746389\n",
      " 0.03679902 0.03601824 0.03519835 0.03436904 0.03353773 0.03270369\n",
      " 0.03186456 0.03101884 0.03016642 0.0293083 ]\n",
      "14 day output [[0.02844628]]\n",
      "15 day input [0.03056344 0.03440734 0.03762702 0.03842959 0.04067303 0.04163518\n",
      " 0.04373783 0.04656795 0.04167273 0.04061671 0.04747378 0.04981578\n",
      " 0.04408983 0.0470326  0.04189801 0.04353601 0.04410391 0.04166804\n",
      " 0.04671344 0.04581231 0.04443245 0.03886138 0.04209514 0.04022716\n",
      " 0.03736418 0.03468425 0.03042264 0.0306667  0.03115481 0.03527562\n",
      " 0.03395677 0.03568395 0.03380658 0.03527093 0.04199657 0.03897872\n",
      " 0.03948091 0.0386314  0.03928848 0.03805881 0.04026001 0.04091709\n",
      " 0.04663366 0.04067773 0.03964987 0.03633633 0.03612043 0.0358623\n",
      " 0.03693239 0.03399901 0.03651468 0.03609227 0.03704973 0.03576843\n",
      " 0.03402248 0.02576209 0.02674301 0.02555558 0.02467322 0.02142539\n",
      " 0.02444794 0.02638162 0.02521766 0.02450426 0.02464506 0.02492197\n",
      " 0.02908033 0.02989229 0.02865323 0.02836693 0.0300284  0.0281041\n",
      " 0.02733907 0.02741886 0.03086382 0.03228592 0.03381128 0.03790862\n",
      " 0.03645366 0.03510666 0.03584352 0.03992678 0.04367681 0.04497688\n",
      " 0.04666182 0.03675478 0.03771774 0.03785584 0.03746389 0.03679902\n",
      " 0.03601824 0.03519835 0.03436904 0.03353773 0.03270369 0.03186456\n",
      " 0.03101884 0.03016642 0.0293083  0.02844628]\n",
      "15 day output [[0.02758255]]\n",
      "16 day input [0.03440734 0.03762702 0.03842959 0.04067303 0.04163518 0.04373783\n",
      " 0.04656795 0.04167273 0.04061671 0.04747378 0.04981578 0.04408983\n",
      " 0.0470326  0.04189801 0.04353601 0.04410391 0.04166804 0.04671344\n",
      " 0.04581231 0.04443245 0.03886138 0.04209514 0.04022716 0.03736418\n",
      " 0.03468425 0.03042264 0.0306667  0.03115481 0.03527562 0.03395677\n",
      " 0.03568395 0.03380658 0.03527093 0.04199657 0.03897872 0.03948091\n",
      " 0.0386314  0.03928848 0.03805881 0.04026001 0.04091709 0.04663366\n",
      " 0.04067773 0.03964987 0.03633633 0.03612043 0.0358623  0.03693239\n",
      " 0.03399901 0.03651468 0.03609227 0.03704973 0.03576843 0.03402248\n",
      " 0.02576209 0.02674301 0.02555558 0.02467322 0.02142539 0.02444794\n",
      " 0.02638162 0.02521766 0.02450426 0.02464506 0.02492197 0.02908033\n",
      " 0.02989229 0.02865323 0.02836693 0.0300284  0.0281041  0.02733907\n",
      " 0.02741886 0.03086382 0.03228592 0.03381128 0.03790862 0.03645366\n",
      " 0.03510666 0.03584352 0.03992678 0.04367681 0.04497688 0.04666182\n",
      " 0.03675478 0.03771774 0.03785584 0.03746389 0.03679902 0.03601824\n",
      " 0.03519835 0.03436904 0.03353773 0.03270369 0.03186456 0.03101884\n",
      " 0.03016642 0.0293083  0.02844628 0.02758255]\n"
     ]
    },
    {
     "name": "stdout",
     "output_type": "stream",
     "text": [
      "16 day output [[0.02671943]]\n",
      "17 day input [0.03762702 0.03842959 0.04067303 0.04163518 0.04373783 0.04656795\n",
      " 0.04167273 0.04061671 0.04747378 0.04981578 0.04408983 0.0470326\n",
      " 0.04189801 0.04353601 0.04410391 0.04166804 0.04671344 0.04581231\n",
      " 0.04443245 0.03886138 0.04209514 0.04022716 0.03736418 0.03468425\n",
      " 0.03042264 0.0306667  0.03115481 0.03527562 0.03395677 0.03568395\n",
      " 0.03380658 0.03527093 0.04199657 0.03897872 0.03948091 0.0386314\n",
      " 0.03928848 0.03805881 0.04026001 0.04091709 0.04663366 0.04067773\n",
      " 0.03964987 0.03633633 0.03612043 0.0358623  0.03693239 0.03399901\n",
      " 0.03651468 0.03609227 0.03704973 0.03576843 0.03402248 0.02576209\n",
      " 0.02674301 0.02555558 0.02467322 0.02142539 0.02444794 0.02638162\n",
      " 0.02521766 0.02450426 0.02464506 0.02492197 0.02908033 0.02989229\n",
      " 0.02865323 0.02836693 0.0300284  0.0281041  0.02733907 0.02741886\n",
      " 0.03086382 0.03228592 0.03381128 0.03790862 0.03645366 0.03510666\n",
      " 0.03584352 0.03992678 0.04367681 0.04497688 0.04666182 0.03675478\n",
      " 0.03771774 0.03785584 0.03746389 0.03679902 0.03601824 0.03519835\n",
      " 0.03436904 0.03353773 0.03270369 0.03186456 0.03101884 0.03016642\n",
      " 0.0293083  0.02844628 0.02758255 0.02671943]\n",
      "17 day output [[0.0258592]]\n",
      "18 day input [0.03842959 0.04067303 0.04163518 0.04373783 0.04656795 0.04167273\n",
      " 0.04061671 0.04747378 0.04981578 0.04408983 0.0470326  0.04189801\n",
      " 0.04353601 0.04410391 0.04166804 0.04671344 0.04581231 0.04443245\n",
      " 0.03886138 0.04209514 0.04022716 0.03736418 0.03468425 0.03042264\n",
      " 0.0306667  0.03115481 0.03527562 0.03395677 0.03568395 0.03380658\n",
      " 0.03527093 0.04199657 0.03897872 0.03948091 0.0386314  0.03928848\n",
      " 0.03805881 0.04026001 0.04091709 0.04663366 0.04067773 0.03964987\n",
      " 0.03633633 0.03612043 0.0358623  0.03693239 0.03399901 0.03651468\n",
      " 0.03609227 0.03704973 0.03576843 0.03402248 0.02576209 0.02674301\n",
      " 0.02555558 0.02467322 0.02142539 0.02444794 0.02638162 0.02521766\n",
      " 0.02450426 0.02464506 0.02492197 0.02908033 0.02989229 0.02865323\n",
      " 0.02836693 0.0300284  0.0281041  0.02733907 0.02741886 0.03086382\n",
      " 0.03228592 0.03381128 0.03790862 0.03645366 0.03510666 0.03584352\n",
      " 0.03992678 0.04367681 0.04497688 0.04666182 0.03675478 0.03771774\n",
      " 0.03785584 0.03746389 0.03679902 0.03601824 0.03519835 0.03436904\n",
      " 0.03353773 0.03270369 0.03186456 0.03101884 0.03016642 0.0293083\n",
      " 0.02844628 0.02758255 0.02671943 0.0258592 ]\n",
      "18 day output [[0.02500385]]\n",
      "19 day input [0.04067303 0.04163518 0.04373783 0.04656795 0.04167273 0.04061671\n",
      " 0.04747378 0.04981578 0.04408983 0.0470326  0.04189801 0.04353601\n",
      " 0.04410391 0.04166804 0.04671344 0.04581231 0.04443245 0.03886138\n",
      " 0.04209514 0.04022716 0.03736418 0.03468425 0.03042264 0.0306667\n",
      " 0.03115481 0.03527562 0.03395677 0.03568395 0.03380658 0.03527093\n",
      " 0.04199657 0.03897872 0.03948091 0.0386314  0.03928848 0.03805881\n",
      " 0.04026001 0.04091709 0.04663366 0.04067773 0.03964987 0.03633633\n",
      " 0.03612043 0.0358623  0.03693239 0.03399901 0.03651468 0.03609227\n",
      " 0.03704973 0.03576843 0.03402248 0.02576209 0.02674301 0.02555558\n",
      " 0.02467322 0.02142539 0.02444794 0.02638162 0.02521766 0.02450426\n",
      " 0.02464506 0.02492197 0.02908033 0.02989229 0.02865323 0.02836693\n",
      " 0.0300284  0.0281041  0.02733907 0.02741886 0.03086382 0.03228592\n",
      " 0.03381128 0.03790862 0.03645366 0.03510666 0.03584352 0.03992678\n",
      " 0.04367681 0.04497688 0.04666182 0.03675478 0.03771774 0.03785584\n",
      " 0.03746389 0.03679902 0.03601824 0.03519835 0.03436904 0.03353773\n",
      " 0.03270369 0.03186456 0.03101884 0.03016642 0.0293083  0.02844628\n",
      " 0.02758255 0.02671943 0.0258592  0.02500385]\n",
      "19 day output [[0.02415514]]\n",
      "20 day input [0.04163518 0.04373783 0.04656795 0.04167273 0.04061671 0.04747378\n",
      " 0.04981578 0.04408983 0.0470326  0.04189801 0.04353601 0.04410391\n",
      " 0.04166804 0.04671344 0.04581231 0.04443245 0.03886138 0.04209514\n",
      " 0.04022716 0.03736418 0.03468425 0.03042264 0.0306667  0.03115481\n",
      " 0.03527562 0.03395677 0.03568395 0.03380658 0.03527093 0.04199657\n",
      " 0.03897872 0.03948091 0.0386314  0.03928848 0.03805881 0.04026001\n",
      " 0.04091709 0.04663366 0.04067773 0.03964987 0.03633633 0.03612043\n",
      " 0.0358623  0.03693239 0.03399901 0.03651468 0.03609227 0.03704973\n",
      " 0.03576843 0.03402248 0.02576209 0.02674301 0.02555558 0.02467322\n",
      " 0.02142539 0.02444794 0.02638162 0.02521766 0.02450426 0.02464506\n",
      " 0.02492197 0.02908033 0.02989229 0.02865323 0.02836693 0.0300284\n",
      " 0.0281041  0.02733907 0.02741886 0.03086382 0.03228592 0.03381128\n",
      " 0.03790862 0.03645366 0.03510666 0.03584352 0.03992678 0.04367681\n",
      " 0.04497688 0.04666182 0.03675478 0.03771774 0.03785584 0.03746389\n",
      " 0.03679902 0.03601824 0.03519835 0.03436904 0.03353773 0.03270369\n",
      " 0.03186456 0.03101884 0.03016642 0.0293083  0.02844628 0.02758255\n",
      " 0.02671943 0.0258592  0.02500385 0.02415514]\n",
      "20 day output [[0.02331449]]\n",
      "21 day input [0.04373783 0.04656795 0.04167273 0.04061671 0.04747378 0.04981578\n",
      " 0.04408983 0.0470326  0.04189801 0.04353601 0.04410391 0.04166804\n",
      " 0.04671344 0.04581231 0.04443245 0.03886138 0.04209514 0.04022716\n",
      " 0.03736418 0.03468425 0.03042264 0.0306667  0.03115481 0.03527562\n",
      " 0.03395677 0.03568395 0.03380658 0.03527093 0.04199657 0.03897872\n",
      " 0.03948091 0.0386314  0.03928848 0.03805881 0.04026001 0.04091709\n",
      " 0.04663366 0.04067773 0.03964987 0.03633633 0.03612043 0.0358623\n",
      " 0.03693239 0.03399901 0.03651468 0.03609227 0.03704973 0.03576843\n",
      " 0.03402248 0.02576209 0.02674301 0.02555558 0.02467322 0.02142539\n",
      " 0.02444794 0.02638162 0.02521766 0.02450426 0.02464506 0.02492197\n",
      " 0.02908033 0.02989229 0.02865323 0.02836693 0.0300284  0.0281041\n",
      " 0.02733907 0.02741886 0.03086382 0.03228592 0.03381128 0.03790862\n",
      " 0.03645366 0.03510666 0.03584352 0.03992678 0.04367681 0.04497688\n",
      " 0.04666182 0.03675478 0.03771774 0.03785584 0.03746389 0.03679902\n",
      " 0.03601824 0.03519835 0.03436904 0.03353773 0.03270369 0.03186456\n",
      " 0.03101884 0.03016642 0.0293083  0.02844628 0.02758255 0.02671943\n",
      " 0.0258592  0.02500385 0.02415514 0.02331449]\n",
      "21 day output [[0.02248292]]\n",
      "22 day input [0.04656795 0.04167273 0.04061671 0.04747378 0.04981578 0.04408983\n",
      " 0.0470326  0.04189801 0.04353601 0.04410391 0.04166804 0.04671344\n",
      " 0.04581231 0.04443245 0.03886138 0.04209514 0.04022716 0.03736418\n",
      " 0.03468425 0.03042264 0.0306667  0.03115481 0.03527562 0.03395677\n",
      " 0.03568395 0.03380658 0.03527093 0.04199657 0.03897872 0.03948091\n",
      " 0.0386314  0.03928848 0.03805881 0.04026001 0.04091709 0.04663366\n",
      " 0.04067773 0.03964987 0.03633633 0.03612043 0.0358623  0.03693239\n",
      " 0.03399901 0.03651468 0.03609227 0.03704973 0.03576843 0.03402248\n",
      " 0.02576209 0.02674301 0.02555558 0.02467322 0.02142539 0.02444794\n",
      " 0.02638162 0.02521766 0.02450426 0.02464506 0.02492197 0.02908033\n",
      " 0.02989229 0.02865323 0.02836693 0.0300284  0.0281041  0.02733907\n",
      " 0.02741886 0.03086382 0.03228592 0.03381128 0.03790862 0.03645366\n",
      " 0.03510666 0.03584352 0.03992678 0.04367681 0.04497688 0.04666182\n",
      " 0.03675478 0.03771774 0.03785584 0.03746389 0.03679902 0.03601824\n",
      " 0.03519835 0.03436904 0.03353773 0.03270369 0.03186456 0.03101884\n",
      " 0.03016642 0.0293083  0.02844628 0.02758255 0.02671943 0.0258592\n",
      " 0.02500385 0.02415514 0.02331449 0.02248292]\n",
      "22 day output [[0.02166118]]\n",
      "23 day input [0.04167273 0.04061671 0.04747378 0.04981578 0.04408983 0.0470326\n",
      " 0.04189801 0.04353601 0.04410391 0.04166804 0.04671344 0.04581231\n",
      " 0.04443245 0.03886138 0.04209514 0.04022716 0.03736418 0.03468425\n",
      " 0.03042264 0.0306667  0.03115481 0.03527562 0.03395677 0.03568395\n",
      " 0.03380658 0.03527093 0.04199657 0.03897872 0.03948091 0.0386314\n",
      " 0.03928848 0.03805881 0.04026001 0.04091709 0.04663366 0.04067773\n",
      " 0.03964987 0.03633633 0.03612043 0.0358623  0.03693239 0.03399901\n",
      " 0.03651468 0.03609227 0.03704973 0.03576843 0.03402248 0.02576209\n",
      " 0.02674301 0.02555558 0.02467322 0.02142539 0.02444794 0.02638162\n",
      " 0.02521766 0.02450426 0.02464506 0.02492197 0.02908033 0.02989229\n",
      " 0.02865323 0.02836693 0.0300284  0.0281041  0.02733907 0.02741886\n",
      " 0.03086382 0.03228592 0.03381128 0.03790862 0.03645366 0.03510666\n",
      " 0.03584352 0.03992678 0.04367681 0.04497688 0.04666182 0.03675478\n",
      " 0.03771774 0.03785584 0.03746389 0.03679902 0.03601824 0.03519835\n",
      " 0.03436904 0.03353773 0.03270369 0.03186456 0.03101884 0.03016642\n",
      " 0.0293083  0.02844628 0.02758255 0.02671943 0.0258592  0.02500385\n",
      " 0.02415514 0.02331449 0.02248292 0.02166118]\n",
      "23 day output [[0.0208497]]\n",
      "24 day input [0.04061671 0.04747378 0.04981578 0.04408983 0.0470326  0.04189801\n",
      " 0.04353601 0.04410391 0.04166804 0.04671344 0.04581231 0.04443245\n",
      " 0.03886138 0.04209514 0.04022716 0.03736418 0.03468425 0.03042264\n",
      " 0.0306667  0.03115481 0.03527562 0.03395677 0.03568395 0.03380658\n",
      " 0.03527093 0.04199657 0.03897872 0.03948091 0.0386314  0.03928848\n",
      " 0.03805881 0.04026001 0.04091709 0.04663366 0.04067773 0.03964987\n",
      " 0.03633633 0.03612043 0.0358623  0.03693239 0.03399901 0.03651468\n",
      " 0.03609227 0.03704973 0.03576843 0.03402248 0.02576209 0.02674301\n",
      " 0.02555558 0.02467322 0.02142539 0.02444794 0.02638162 0.02521766\n",
      " 0.02450426 0.02464506 0.02492197 0.02908033 0.02989229 0.02865323\n",
      " 0.02836693 0.0300284  0.0281041  0.02733907 0.02741886 0.03086382\n",
      " 0.03228592 0.03381128 0.03790862 0.03645366 0.03510666 0.03584352\n",
      " 0.03992678 0.04367681 0.04497688 0.04666182 0.03675478 0.03771774\n",
      " 0.03785584 0.03746389 0.03679902 0.03601824 0.03519835 0.03436904\n",
      " 0.03353773 0.03270369 0.03186456 0.03101884 0.03016642 0.0293083\n",
      " 0.02844628 0.02758255 0.02671943 0.0258592  0.02500385 0.02415514\n",
      " 0.02331449 0.02248292 0.02166118 0.0208497 ]\n"
     ]
    },
    {
     "name": "stdout",
     "output_type": "stream",
     "text": [
      "24 day output [[0.02004868]]\n",
      "25 day input [0.04747378 0.04981578 0.04408983 0.0470326  0.04189801 0.04353601\n",
      " 0.04410391 0.04166804 0.04671344 0.04581231 0.04443245 0.03886138\n",
      " 0.04209514 0.04022716 0.03736418 0.03468425 0.03042264 0.0306667\n",
      " 0.03115481 0.03527562 0.03395677 0.03568395 0.03380658 0.03527093\n",
      " 0.04199657 0.03897872 0.03948091 0.0386314  0.03928848 0.03805881\n",
      " 0.04026001 0.04091709 0.04663366 0.04067773 0.03964987 0.03633633\n",
      " 0.03612043 0.0358623  0.03693239 0.03399901 0.03651468 0.03609227\n",
      " 0.03704973 0.03576843 0.03402248 0.02576209 0.02674301 0.02555558\n",
      " 0.02467322 0.02142539 0.02444794 0.02638162 0.02521766 0.02450426\n",
      " 0.02464506 0.02492197 0.02908033 0.02989229 0.02865323 0.02836693\n",
      " 0.0300284  0.0281041  0.02733907 0.02741886 0.03086382 0.03228592\n",
      " 0.03381128 0.03790862 0.03645366 0.03510666 0.03584352 0.03992678\n",
      " 0.04367681 0.04497688 0.04666182 0.03675478 0.03771774 0.03785584\n",
      " 0.03746389 0.03679902 0.03601824 0.03519835 0.03436904 0.03353773\n",
      " 0.03270369 0.03186456 0.03101884 0.03016642 0.0293083  0.02844628\n",
      " 0.02758255 0.02671943 0.0258592  0.02500385 0.02415514 0.02331449\n",
      " 0.02248292 0.02166118 0.0208497  0.02004868]\n",
      "25 day output [[0.01925809]]\n",
      "26 day input [0.04981578 0.04408983 0.0470326  0.04189801 0.04353601 0.04410391\n",
      " 0.04166804 0.04671344 0.04581231 0.04443245 0.03886138 0.04209514\n",
      " 0.04022716 0.03736418 0.03468425 0.03042264 0.0306667  0.03115481\n",
      " 0.03527562 0.03395677 0.03568395 0.03380658 0.03527093 0.04199657\n",
      " 0.03897872 0.03948091 0.0386314  0.03928848 0.03805881 0.04026001\n",
      " 0.04091709 0.04663366 0.04067773 0.03964987 0.03633633 0.03612043\n",
      " 0.0358623  0.03693239 0.03399901 0.03651468 0.03609227 0.03704973\n",
      " 0.03576843 0.03402248 0.02576209 0.02674301 0.02555558 0.02467322\n",
      " 0.02142539 0.02444794 0.02638162 0.02521766 0.02450426 0.02464506\n",
      " 0.02492197 0.02908033 0.02989229 0.02865323 0.02836693 0.0300284\n",
      " 0.0281041  0.02733907 0.02741886 0.03086382 0.03228592 0.03381128\n",
      " 0.03790862 0.03645366 0.03510666 0.03584352 0.03992678 0.04367681\n",
      " 0.04497688 0.04666182 0.03675478 0.03771774 0.03785584 0.03746389\n",
      " 0.03679902 0.03601824 0.03519835 0.03436904 0.03353773 0.03270369\n",
      " 0.03186456 0.03101884 0.03016642 0.0293083  0.02844628 0.02758255\n",
      " 0.02671943 0.0258592  0.02500385 0.02415514 0.02331449 0.02248292\n",
      " 0.02166118 0.0208497  0.02004868 0.01925809]\n",
      "26 day output [[0.01847776]]\n",
      "27 day input [0.04408983 0.0470326  0.04189801 0.04353601 0.04410391 0.04166804\n",
      " 0.04671344 0.04581231 0.04443245 0.03886138 0.04209514 0.04022716\n",
      " 0.03736418 0.03468425 0.03042264 0.0306667  0.03115481 0.03527562\n",
      " 0.03395677 0.03568395 0.03380658 0.03527093 0.04199657 0.03897872\n",
      " 0.03948091 0.0386314  0.03928848 0.03805881 0.04026001 0.04091709\n",
      " 0.04663366 0.04067773 0.03964987 0.03633633 0.03612043 0.0358623\n",
      " 0.03693239 0.03399901 0.03651468 0.03609227 0.03704973 0.03576843\n",
      " 0.03402248 0.02576209 0.02674301 0.02555558 0.02467322 0.02142539\n",
      " 0.02444794 0.02638162 0.02521766 0.02450426 0.02464506 0.02492197\n",
      " 0.02908033 0.02989229 0.02865323 0.02836693 0.0300284  0.0281041\n",
      " 0.02733907 0.02741886 0.03086382 0.03228592 0.03381128 0.03790862\n",
      " 0.03645366 0.03510666 0.03584352 0.03992678 0.04367681 0.04497688\n",
      " 0.04666182 0.03675478 0.03771774 0.03785584 0.03746389 0.03679902\n",
      " 0.03601824 0.03519835 0.03436904 0.03353773 0.03270369 0.03186456\n",
      " 0.03101884 0.03016642 0.0293083  0.02844628 0.02758255 0.02671943\n",
      " 0.0258592  0.02500385 0.02415514 0.02331449 0.02248292 0.02166118\n",
      " 0.0208497  0.02004868 0.01925809 0.01847776]\n",
      "27 day output [[0.01770741]]\n",
      "28 day input [0.0470326  0.04189801 0.04353601 0.04410391 0.04166804 0.04671344\n",
      " 0.04581231 0.04443245 0.03886138 0.04209514 0.04022716 0.03736418\n",
      " 0.03468425 0.03042264 0.0306667  0.03115481 0.03527562 0.03395677\n",
      " 0.03568395 0.03380658 0.03527093 0.04199657 0.03897872 0.03948091\n",
      " 0.0386314  0.03928848 0.03805881 0.04026001 0.04091709 0.04663366\n",
      " 0.04067773 0.03964987 0.03633633 0.03612043 0.0358623  0.03693239\n",
      " 0.03399901 0.03651468 0.03609227 0.03704973 0.03576843 0.03402248\n",
      " 0.02576209 0.02674301 0.02555558 0.02467322 0.02142539 0.02444794\n",
      " 0.02638162 0.02521766 0.02450426 0.02464506 0.02492197 0.02908033\n",
      " 0.02989229 0.02865323 0.02836693 0.0300284  0.0281041  0.02733907\n",
      " 0.02741886 0.03086382 0.03228592 0.03381128 0.03790862 0.03645366\n",
      " 0.03510666 0.03584352 0.03992678 0.04367681 0.04497688 0.04666182\n",
      " 0.03675478 0.03771774 0.03785584 0.03746389 0.03679902 0.03601824\n",
      " 0.03519835 0.03436904 0.03353773 0.03270369 0.03186456 0.03101884\n",
      " 0.03016642 0.0293083  0.02844628 0.02758255 0.02671943 0.0258592\n",
      " 0.02500385 0.02415514 0.02331449 0.02248292 0.02166118 0.0208497\n",
      " 0.02004868 0.01925809 0.01847776 0.01770741]\n",
      "28 day output [[0.01694668]]\n",
      "29 day input [0.04189801 0.04353601 0.04410391 0.04166804 0.04671344 0.04581231\n",
      " 0.04443245 0.03886138 0.04209514 0.04022716 0.03736418 0.03468425\n",
      " 0.03042264 0.0306667  0.03115481 0.03527562 0.03395677 0.03568395\n",
      " 0.03380658 0.03527093 0.04199657 0.03897872 0.03948091 0.0386314\n",
      " 0.03928848 0.03805881 0.04026001 0.04091709 0.04663366 0.04067773\n",
      " 0.03964987 0.03633633 0.03612043 0.0358623  0.03693239 0.03399901\n",
      " 0.03651468 0.03609227 0.03704973 0.03576843 0.03402248 0.02576209\n",
      " 0.02674301 0.02555558 0.02467322 0.02142539 0.02444794 0.02638162\n",
      " 0.02521766 0.02450426 0.02464506 0.02492197 0.02908033 0.02989229\n",
      " 0.02865323 0.02836693 0.0300284  0.0281041  0.02733907 0.02741886\n",
      " 0.03086382 0.03228592 0.03381128 0.03790862 0.03645366 0.03510666\n",
      " 0.03584352 0.03992678 0.04367681 0.04497688 0.04666182 0.03675478\n",
      " 0.03771774 0.03785584 0.03746389 0.03679902 0.03601824 0.03519835\n",
      " 0.03436904 0.03353773 0.03270369 0.03186456 0.03101884 0.03016642\n",
      " 0.0293083  0.02844628 0.02758255 0.02671943 0.0258592  0.02500385\n",
      " 0.02415514 0.02331449 0.02248292 0.02166118 0.0208497  0.02004868\n",
      " 0.01925809 0.01847776 0.01770741 0.01694668]\n",
      "29 day output [[0.01619518]]\n",
      "[[0.0367547832429409], [0.03771774470806122], [0.0378558449447155], [0.03746389225125313], [0.036799024790525436], [0.0360182449221611], [0.03519834578037262], [0.03436903655529022], [0.03353773429989815], [0.032703690230846405], [0.03186456114053726], [0.03101883828639984], [0.030166417360305786], [0.029308296740055084], [0.028446275740861893], [0.027582548558712006], [0.026719432324171066], [0.025859195739030838], [0.025003846734762192], [0.024155143648386], [0.02331448532640934], [0.022482916712760925], [0.02166117914021015], [0.02084970474243164], [0.020048677921295166], [0.01925808936357498], [0.01847776211798191], [0.017707407474517822], [0.016946684569120407], [0.016195178031921387]]\n"
     ]
    }
   ],
   "source": [
    "# demonstrate prediction for next 30 days\n",
    "from numpy import array\n",
    "\n",
    "lst_output=[]\n",
    "n_steps=100\n",
    "i=0\n",
    "while(i<30):\n",
    "    \n",
    "    if(len(temp_input)>100):\n",
    "        #print(temp_input)\n",
    "        x_input=np.array(temp_input[1:])\n",
    "        print(\"{} day input {}\".format(i,x_input))\n",
    "        x_input=x_input.reshape(1,-1)\n",
    "        x_input = x_input.reshape((1, n_steps, 1))\n",
    "        #print(x_input)\n",
    "        yhat = model.predict(x_input, verbose=0)\n",
    "        print(\"{} day output {}\".format(i,yhat))\n",
    "        temp_input.extend(yhat[0].tolist())\n",
    "        temp_input=temp_input[1:]\n",
    "        #print(temp_input)\n",
    "        lst_output.extend(yhat.tolist())\n",
    "        i=i+1\n",
    "    else:\n",
    "        x_input = x_input.reshape((1, n_steps,1))\n",
    "        yhat = model.predict(x_input, verbose=0)\n",
    "        print(yhat[0])\n",
    "        temp_input.extend(yhat[0].tolist())\n",
    "        print(len(temp_input))\n",
    "        lst_output.extend(yhat.tolist())\n",
    "        i=i+1\n",
    "    \n",
    "\n",
    "print(lst_output)\n"
   ]
  },
  {
   "cell_type": "code",
   "execution_count": 38,
   "id": "670bf332",
   "metadata": {},
   "outputs": [],
   "source": [
    "day_new=np.arange(1,101)\n",
    "day_pred=np.arange(101,131)"
   ]
  },
  {
   "cell_type": "code",
   "execution_count": 39,
   "id": "7c8dba5a",
   "metadata": {},
   "outputs": [],
   "source": [
    "import matplotlib.pyplot as plt"
   ]
  },
  {
   "cell_type": "code",
   "execution_count": 40,
   "id": "e7b5b7fd",
   "metadata": {},
   "outputs": [
    {
     "data": {
      "text/plain": [
       "1258"
      ]
     },
     "execution_count": 40,
     "metadata": {},
     "output_type": "execute_result"
    }
   ],
   "source": [
    "len(df1)"
   ]
  },
  {
   "cell_type": "code",
   "execution_count": 42,
   "id": "1e0950c9",
   "metadata": {},
   "outputs": [
    {
     "data": {
      "text/plain": [
       "[<matplotlib.lines.Line2D at 0x1e8a21591b0>]"
      ]
     },
     "execution_count": 42,
     "metadata": {},
     "output_type": "execute_result"
    },
    {
     "data": {
      "image/png": "[encoded data removed]",
      "text/plain": [
       "<Figure size 640x480 with 1 Axes>"
      ]
     },
     "metadata": {},
     "output_type": "display_data"
    }
   ],
   "source": [
    "plt.plot(day_new,scaler.inverse_transform(df1[1158:]))\n",
    "plt.plot(day_pred,scaler.inverse_transform(lst_output))\n"
   ]
  },
  {
   "cell_type": "code",
   "execution_count": 43,
   "id": "6eb149ec",
   "metadata": {},
   "outputs": [
    {
     "data": {
      "text/plain": [
       "[<matplotlib.lines.Line2D at 0x1e8a21cdf60>]"
      ]
     },
     "execution_count": 43,
     "metadata": {},
     "output_type": "execute_result"
    },
    {
     "data": {
      "image/png": "[encoded data removed]",
      "text/plain": [
       "<Figure size 640x480 with 1 Axes>"
      ]
     },
     "metadata": {},
     "output_type": "display_data"
    }
   ],
   "source": [
    "df3=df1.tolist()\n",
    "df3.extend(lst_output)\n",
    "plt.plot(df3[1158:])\n"
   ]
  },
  {
   "cell_type": "code",
   "execution_count": 44,
   "id": "437c54f3",
   "metadata": {},
   "outputs": [],
   "source": [
    "df3=scaler.inverse_transform(df3).tolist()"
   ]
  },
  {
   "cell_type": "code",
   "execution_count": 45,
   "id": "8468638c",
   "metadata": {},
   "outputs": [
    {
     "data": {
      "text/plain": [
       "[<matplotlib.lines.Line2D at 0x1e8a21a7160>]"
      ]
     },
     "execution_count": 45,
     "metadata": {},
     "output_type": "execute_result"
    },
    {
     "data": {
      "image/png": "[encoded data removed]",
      "text/plain": [
       "<Figure size 640x480 with 1 Axes>"
      ]
     },
     "metadata": {},
     "output_type": "display_data"
    }
   ],
   "source": [
    "plt.plot(df3)"
   ]
  },
  {
   "cell_type": "code",
   "execution_count": null,
   "id": "f277b1f0",
   "metadata": {},
   "outputs": [],
   "source": []
  }
 ],
 "metadata": {
  "kernelspec": {
   "display_name": "Python 3 (ipykernel)",
   "language": "python",
   "name": "python3"
  },
  "language_info": {
   "codemirror_mode": {
    "name": "ipython",
    "version": 3
   },
   "file_extension": ".py",
   "mimetype": "text/x-python",
   "name": "python",
   "nbconvert_exporter": "python",
   "pygments_lexer": "ipython3",
   "version": "3.10.9"
  }
 },
 "nbformat": 4,
 "nbformat_minor": 5
}
